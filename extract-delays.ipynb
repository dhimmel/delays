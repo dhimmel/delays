{
 "cells": [
  {
   "cell_type": "markdown",
   "metadata": {},
   "source": [
    "# Extract delays from PubMed history dates"
   ]
  },
  {
   "cell_type": "code",
   "execution_count": 1,
   "metadata": {
    "collapsed": true
   },
   "outputs": [],
   "source": [
    "library(dplyr, warn=F)"
   ]
  },
  {
   "cell_type": "code",
   "execution_count": 2,
   "metadata": {
    "collapsed": false
   },
   "outputs": [
    {
     "data": {
      "text/html": [
       "<table>\n",
       "<thead><tr><th></th><th scope=col>pubmed_id</th><th scope=col>journal_nlm_id</th><th scope=col>medline_0</th><th scope=col>pubmed_0</th><th scope=col>entrez_0</th><th scope=col>date_online</th><th scope=col>aheadofprint_0</th><th scope=col>received</th><th scope=col>accepted</th><th scope=col>revised_0</th><th scope=col>epublish_0</th><th scope=col>pmc-release_0</th><th scope=col>ecollection_0</th><th scope=col>ppublish_0</th><th scope=col>version_0</th></tr></thead>\n",
       "<tbody>\n",
       "\t<tr><th scope=row>1</th><td>1</td><td>0151424</td><td>1975-06-01</td><td>1975-06-01</td><td>1975-06-01</td><td>NA</td><td>NA</td><td>NA</td><td>NA</td><td>NA</td><td>NA</td><td>NA</td><td>NA</td><td>NA</td><td>NA</td></tr>\n",
       "\t<tr><th scope=row>2</th><td>2</td><td>0372516</td><td>1975-10-27</td><td>1975-10-27</td><td>1975-10-27</td><td>NA</td><td>NA</td><td>NA</td><td>NA</td><td>NA</td><td>NA</td><td>NA</td><td>NA</td><td>NA</td><td>NA</td></tr>\n",
       "</tbody>\n",
       "</table>\n"
      ],
      "text/latex": [
       "\\begin{tabular}{r|lllllllllllllll}\n",
       "  & pubmed_id & journal_nlm_id & medline_0 & pubmed_0 & entrez_0 & date_online & aheadofprint_0 & received & accepted & revised_0 & epublish_0 & pmc-release_0 & ecollection_0 & ppublish_0 & version_0\\\\\n",
       "\\hline\n",
       "\t1 & 1 & 0151424 & 1975-06-01 & 1975-06-01 & 1975-06-01 & NA & NA & NA & NA & NA & NA & NA & NA & NA & NA\\\\\n",
       "\t2 & 2 & 0372516 & 1975-10-27 & 1975-10-27 & 1975-10-27 & NA & NA & NA & NA & NA & NA & NA & NA & NA & NA\\\\\n",
       "\\end{tabular}\n"
      ],
      "text/plain": [
       "Source: local data frame [2 x 15]\n",
       "\n",
       "  pubmed_id journal_nlm_id  medline_0   pubmed_0   entrez_0 date_online\n",
       "      (int)          (chr)     (date)     (date)     (date)      (date)\n",
       "1         1        0151424 1975-06-01 1975-06-01 1975-06-01        <NA>\n",
       "2         2        0372516 1975-10-27 1975-10-27 1975-10-27        <NA>\n",
       "Variables not shown: aheadofprint_0 (chr), received (date), accepted (date),\n",
       "  revised_0 (chr), epublish_0 (chr), pmc-release_0 (chr), ecollection_0 (chr),\n",
       "  ppublish_0 (chr), version_0 (chr)"
      ]
     },
     "execution_count": 2,
     "metadata": {},
     "output_type": "execute_result"
    }
   ],
   "source": [
    "# Read history dates for all articles\n",
    "path = file.path('data', 'history-dates.tsv.bz2')\n",
    "col_types = list(\n",
    "  accepted_0 = readr::col_date(),\n",
    "  received_0 = readr::col_date(),\n",
    "  date_online = readr::col_date()\n",
    ")\n",
    "all_df = readr::read_tsv(path, col_types = col_types) %>%\n",
    "  dplyr::rename(received = received_0, accepted = accepted_0)\n",
    "head(all_df, 2)"
   ]
  },
  {
   "cell_type": "code",
   "execution_count": 3,
   "metadata": {
    "collapsed": true
   },
   "outputs": [],
   "source": [
    "# Set time constraint to elimate erroneous records\n",
    "earliest = readr::parse_date('1955-01-01')\n",
    "latest = readr::parse_date('2015-12-31')"
   ]
  },
  {
   "cell_type": "code",
   "execution_count": null,
   "metadata": {
    "collapsed": false
   },
   "outputs": [],
   "source": [
    "# Create an acceptance  delay dataset\n",
    "accept_df = all_df %>%\n",
    "  dplyr::mutate(delay_type = 'Acceptance') %>%\n",
    "  dplyr::mutate(delay = as.numeric(accepted - received, units='days')) %>%\n",
    "  dplyr::rename(date = accepted) %>%\n",
    "  dplyr::select(journal_nlm_id, pubmed_id, delay_type, date, delay) %>%\n",
    "  dplyr::filter(! is.na(delay)) %>%\n",
    "  dplyr::filter(delay > 0) %>%\n",
    "  dplyr::filter(delay <= 365 * 5) %>%\n",
    "  dplyr::filter(date >= earliest) %>%\n",
    "  dplyr::filter(date <= latest)\n",
    "\n",
    "nrow(accept_df)"
   ]
  },
  {
   "cell_type": "code",
   "execution_count": null,
   "metadata": {
    "collapsed": false
   },
   "outputs": [],
   "source": [
    "head(accept_df, 2)"
   ]
  },
  {
   "cell_type": "code",
   "execution_count": null,
   "metadata": {
    "collapsed": false
   },
   "outputs": [],
   "source": [
    "# Create a publication delay dataset\n",
    "publish_df = all_df %>%\n",
    "  dplyr::mutate(delay_type = 'Publication') %>%\n",
    "  dplyr::mutate(delay = as.numeric(date_online - accepted, units='days')) %>%\n",
    "  dplyr::rename(date = date_online) %>%\n",
    "  dplyr::select(journal_nlm_id, pubmed_id, delay_type, date, delay) %>%\n",
    "  dplyr::filter(! is.na(delay)) %>%\n",
    "  dplyr::filter(delay >= 0) %>%\n",
    "  dplyr::filter(delay <= 365 * 3) %>%\n",
    "  dplyr::filter(date >= earliest) %>%\n",
    "  dplyr::filter(date <= latest)\n",
    "\n",
    "nrow(publish_df)"
   ]
  },
  {
   "cell_type": "code",
   "execution_count": null,
   "metadata": {
    "collapsed": false
   },
   "outputs": [],
   "source": [
    "head(publish_df, 2)"
   ]
  },
  {
   "cell_type": "code",
   "execution_count": null,
   "metadata": {
    "collapsed": true
   },
   "outputs": [],
   "source": [
    "# Bind acceptance and publication dataframes\n",
    "delay_df = dplyr::bind_rows(accept_df, publish_df) %>%\n",
    "  dplyr::arrange(journal_nlm_id, pubmed_id, delay_type)"
   ]
  },
  {
   "cell_type": "code",
   "execution_count": null,
   "metadata": {
    "collapsed": false
   },
   "outputs": [],
   "source": [
    "head(delay_df)"
   ]
  },
  {
   "cell_type": "code",
   "execution_count": null,
   "metadata": {
    "collapsed": false
   },
   "outputs": [],
   "source": [
    "tail(delay_df)"
   ]
  },
  {
   "cell_type": "code",
   "execution_count": null,
   "metadata": {
    "collapsed": false
   },
   "outputs": [],
   "source": [
    "# Save as a gzipped TSV\n",
    "path = file.path('data', 'delays.tsv')\n",
    "delay_df %>%\n",
    "  readr::write_tsv(path)\n",
    "system2('gzip', c('--force', path))"
   ]
  }
 ],
 "metadata": {
  "kernelspec": {
   "display_name": "R",
   "language": "R",
   "name": "ir"
  },
  "language_info": {
   "codemirror_mode": "r",
   "file_extension": ".r",
   "mimetype": "text/x-r-source",
   "name": "R",
   "pygments_lexer": "r",
   "version": "3.2.2"
  }
 },
 "nbformat": 4,
 "nbformat_minor": 0
}
