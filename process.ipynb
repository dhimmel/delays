{
 "cells": [
  {
   "cell_type": "markdown",
   "metadata": {},
   "source": [
    "# Process PubMed data to extract article history dates\n",
    "\n",
    "Some documentation of the PubMed xml format and field information is [available](http://www.ncbi.nlm.nih.gov/books/NBK3828/#_publisherhelp_XML_Tag_Descriptions_)."
   ]
  },
  {
   "cell_type": "code",
   "execution_count": 12,
   "metadata": {
    "collapsed": true
   },
   "outputs": [],
   "source": [
    "import xml.etree.ElementTree\n",
    "import gzip\n",
    "import bz2\n",
    "import os\n",
    "import datetime\n",
    "import calendar\n",
    "\n",
    "import pandas"
   ]
  },
  {
   "cell_type": "code",
   "execution_count": 2,
   "metadata": {
    "collapsed": false
   },
   "outputs": [
    {
     "name": "stdout",
     "output_type": "stream",
     "text": [
      "2015-12-22 20:06:51 URL: ftp://ftp.ncbi.nlm.nih.gov/pubmed/pubmed-dates-3.txt.gz [2234] -> \"download/.listing\" [1]\r\n"
     ]
    }
   ],
   "source": [
    "# Download `pubmed-dates-3.txt.gz`\n",
    "url = 'ftp://ftp.ncbi.nlm.nih.gov/pubmed/pubmed-dates-3.txt.gz'\n",
    "! wget --timestamping --no-verbose --directory-prefix download {url}"
   ]
  },
  {
   "cell_type": "code",
   "execution_count": 3,
   "metadata": {
    "collapsed": false
   },
   "outputs": [],
   "source": [
    "# Read the xml export. memory intensive\n",
    "path = os.path.join('download', 'pubmed-dates-3.txt.gz')\n",
    "with gzip.open(path, 'rt') as read_file:\n",
    "    element_tree = xml.etree.ElementTree.parse(read_file)"
   ]
  },
  {
   "cell_type": "code",
   "execution_count": 4,
   "metadata": {
    "collapsed": true
   },
   "outputs": [],
   "source": [
    "month_abbr_to_int = {v: k for k, v in enumerate(calendar.month_abbr)}\n",
    "del month_abbr_to_int['']\n",
    "\n",
    "def parse_pmpd(elem):\n",
    "    \"\"\"Parse an `ArticleDates/History/PubMedPubDate` element.\"\"\"\n",
    "    \n",
    "    # parse year and day\n",
    "    try:\n",
    "        year = int(elem.findtext('Year'))\n",
    "        day = int(elem.findtext('Day'))\n",
    "    except ValueError:\n",
    "        return None\n",
    "    \n",
    "    # parse month\n",
    "    month = elem.findtext('Month')\n",
    "    try:\n",
    "        month = int(month)\n",
    "    except ValueError:\n",
    "        month = month_abbr_to_int.get(month)\n",
    "    \n",
    "    return date_no_exceptions(year, month, day)\n",
    "\n",
    "def date_no_exceptions(year, month, day):\n",
    "    \"\"\"Return a datetime.date or `None` in case of error.\"\"\"\n",
    "    try:\n",
    "        return datetime.date(year, month, day)\n",
    "    except TypeError:\n",
    "        return None\n",
    "    except ValueError:\n",
    "        return None"
   ]
  },
  {
   "cell_type": "code",
   "execution_count": 5,
   "metadata": {
    "collapsed": false
   },
   "outputs": [],
   "source": [
    "# Parse and process xml\n",
    "articles = list()\n",
    "for elem in element_tree.iterfind('ArticleDates'):\n",
    "    article = dict()\n",
    "    \n",
    "    article['pubmed_id'] = int(elem.findtext('PMID'))\n",
    "    article['journal'] = elem.findtext('MedlineJournalInfo/MedlineTA')\n",
    "    article['journal_issn'] = elem.findtext('MedlineJournalInfo/ISSNLinking')\n",
    "    article['journal_nlm_id'] = elem.findtext('MedlineJournalInfo/NlmUniqueID')\n",
    "    \n",
    "    for pmpd in elem.findall('History/PubMedPubDate[@PubStatus]'):\n",
    "        key = pmpd.get('PubStatus')\n",
    "        value = parse_pmpd(pmpd)\n",
    "        if value is None:\n",
    "            continue\n",
    "        article[key] = value\n",
    "    articles.append(article)\n",
    "\n",
    "article_df = pandas.DataFrame(articles)"
   ]
  },
  {
   "cell_type": "code",
   "execution_count": 6,
   "metadata": {
    "collapsed": false
   },
   "outputs": [
    {
     "data": {
      "text/plain": [
       "journal           0.000000\n",
       "journal_nlm_id    0.000000\n",
       "pubmed_id         0.000000\n",
       "accepted          0.018447\n",
       "journal_issn      0.027405\n",
       "received          0.035496\n",
       "date_online       0.217349\n",
       "aheadofprint      0.342773\n",
       "revised           0.505117\n",
       "epublish          0.874222\n",
       "pmc-release       0.989231\n",
       "ecollection       0.998232\n",
       "ppublish          0.998984\n",
       "medline           0.999730\n",
       "pubmed            0.999730\n",
       "entrez            0.999933\n",
       "dtype: float64"
      ]
     },
     "execution_count": 6,
     "metadata": {},
     "output_type": "execute_result"
    }
   ],
   "source": [
    "# Combine `aheadofprint` and `epublish`\n",
    "article_df['date_online'] = article_df['aheadofprint']\n",
    "article_df['date_online'].fillna(article_df['epublish'], inplace=True)\n",
    "\n",
    "# Compute proportion missing for each column\n",
    "missing_pct = article_df.isnull().mean().sort_values()\n",
    "article_df = article_df[missing_pct.index]\n",
    "missing_pct"
   ]
  },
  {
   "cell_type": "code",
   "execution_count": 13,
   "metadata": {
    "collapsed": true
   },
   "outputs": [],
   "source": [
    "# Save article_df\n",
    "path = os.path.join('data', 'articles-all.tsv.bz2')\n",
    "with bz2.open(path, 'wt') as write_file:\n",
    "    article_df.to_csv(write_file, index=False, sep='\\t')"
   ]
  }
 ],
 "metadata": {
  "kernelspec": {
   "display_name": "Python 3",
   "language": "python",
   "name": "python3"
  },
  "language_info": {
   "codemirror_mode": {
    "name": "ipython",
    "version": 3
   },
   "file_extension": ".py",
   "mimetype": "text/x-python",
   "name": "python",
   "nbconvert_exporter": "python",
   "pygments_lexer": "ipython3",
   "version": "3.5.1"
  }
 },
 "nbformat": 4,
 "nbformat_minor": 0
}
