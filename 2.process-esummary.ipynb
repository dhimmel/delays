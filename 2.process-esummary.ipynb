{
 "cells": [
  {
   "cell_type": "markdown",
   "metadata": {
    "deletable": true,
    "editable": true
   },
   "source": [
    "# Process PubMed data and export  to TSVs"
   ]
  },
  {
   "cell_type": "code",
   "execution_count": 1,
   "metadata": {
    "collapsed": true,
    "deletable": true,
    "editable": true
   },
   "outputs": [],
   "source": [
    "import os\n",
    "\n",
    "import pandas\n",
    "import tqdm\n",
    "\n",
    "from pydelays.xml_to_dates import extract_articles_from_esummaries, articles_to_dataframe"
   ]
  },
  {
   "cell_type": "markdown",
   "metadata": {
    "deletable": true,
    "editable": true
   },
   "source": [
    "# Extract historical dates from PubMed records"
   ]
  },
  {
   "cell_type": "code",
   "execution_count": 2,
   "metadata": {
    "collapsed": false,
    "deletable": true,
    "editable": true
   },
   "outputs": [
    {
     "name": "stdout",
     "output_type": "stream",
     "text": [
      "23,711,961 article IDs retrieved via esearch\n"
     ]
    }
   ],
   "source": [
    "path = os.path.join('download', 'esearch_journal-articles_1960-2017.tsv.xz')\n",
    "n_article_ids = len(pandas.read_table(path))\n",
    "print(f'{n_article_ids:,} article IDs retrieved via esearch')"
   ]
  },
  {
   "cell_type": "code",
   "execution_count": 3,
   "metadata": {
    "collapsed": false
   },
   "outputs": [
    {
     "name": "stderr",
     "output_type": "stream",
     "text": [
      "The installed widget Javascript is the wrong version.\n",
      "WARNING:root:article 11464299; name: accepted; date: 2001/02/29 00:00; error: day is out of range for month\n",
      "WARNING:root:article 11791149; name: received; date: 2000/11/31 00:00; error: day is out of range for month\n",
      "WARNING:root:article 12743425; name: received; date: 2002/02/29 00:00; error: day is out of range for month\n",
      "WARNING:root:article 15580174; name: received; date: 2003/11/31 00:00; error: day is out of range for month\n",
      "WARNING:root:article 15711825; name: received; date: 2004/02/30 00:00; error: day is out of range for month\n",
      "WARNING:root:article 15744518; name: accepted; date: 2004/11/31 00:00; error: day is out of range for month\n",
      "WARNING:root:article 16088100; name: accepted; date: 2005/02/29 00:00; error: day is out of range for month\n",
      "WARNING:root:article 16278947; name: revised; date: 2005/04/31 00:00; error: day is out of range for month\n",
      "WARNING:root:article 16465214; name: received; date: 1999/02/29 00:00; error: day is out of range for month\n",
      "WARNING:root:article 16537117; name: received; date: 2008/11/31 00:00; error: day is out of range for month\n",
      "WARNING:root:article 17335605; name: accepted; date: 2006/06/31 00:00; error: day is out of range for month\n",
      "WARNING:root:article 17462185; name: accepted; date: 2007/02/29 00:00; error: day is out of range for month\n",
      "WARNING:root:article 18333673; name: received; date: 2007/02/29 00:00; error: day is out of range for month\n",
      "WARNING:root:article 18596820; name: accepted; date: 2007/02/29 00:00; error: day is out of range for month\n",
      "WARNING:root:article 18983795; name: received; date: 2007/02/29 00:00; error: day is out of range for month\n",
      "WARNING:root:article 19412418; name: received; date: 2007/09/31 00:00; error: day is out of range for month\n",
      "WARNING:root:article 19440262; name: received; date: 2008/09/31 00:00; error: day is out of range for month\n",
      "WARNING:root:article 19485884; name: received; date: 2008/09/31 00:00; error: day is out of range for month\n",
      "WARNING:root:article 19485885; name: received; date: 2008/09/31 00:00; error: day is out of range for month\n",
      "WARNING:root:article 19485886; name: received; date: 2008/09/31 00:00; error: day is out of range for month\n",
      "WARNING:root:article 19485887; name: received; date: 2008/09/31 00:00; error: day is out of range for month\n",
      "WARNING:root:article 19485888; name: received; date: 2008/09/31 00:00; error: day is out of range for month\n",
      "WARNING:root:article 19485889; name: received; date: 2008/09/31 00:00; error: day is out of range for month\n",
      "WARNING:root:article 19485890; name: received; date: 2008/09/31 00:00; error: day is out of range for month\n",
      "WARNING:root:article 19485893; name: received; date: 2008/09/31 00:00; error: day is out of range for month\n",
      "WARNING:root:article 19485894; name: received; date: 2008/09/31 00:00; error: day is out of range for month\n",
      "WARNING:root:article 19594405; name: received; date: 2009/11/31 00:00; error: day is out of range for month\n",
      "WARNING:root:article 19669013; name: accepted; date: 2009/04/31 00:00; error: day is out of range for month\n",
      "WARNING:root:article 19671040; name: accepted; date: 2009/06/31 00:00; error: day is out of range for month\n",
      "WARNING:root:article 19684890; name: accepted; date: 2009/06/31 00:00; error: day is out of range for month\n",
      "WARNING:root:article 19762962; name: received; date: 2009/02/29 00:00; error: day is out of range for month\n",
      "WARNING:root:article 19893644; name: received; date: 2008/04/31 00:00; error: day is out of range for month\n",
      "WARNING:root:article 20038892; name: accepted; date: 2009/11/31 00:00; error: day is out of range for month\n",
      "WARNING:root:article 20157523; name: received; date: 2009/02/29 00:00; error: day is out of range for month\n",
      "WARNING:root:article 20464066; name: received; date: 2009/09/31 00:00; error: day is out of range for month\n",
      "WARNING:root:article 20509853; name: received; date: 2009/04/31 00:00; error: day is out of range for month\n",
      "WARNING:root:article 20535363; name: accepted; date: 2010/02/30 00:00; error: day is out of range for month\n",
      "WARNING:root:article 20549101; name: accepted; date: 2009/04/31 00:00; error: day is out of range for month\n",
      "WARNING:root:article 20667218; name: accepted; date: 2000/09/31 00:00; error: day is out of range for month\n",
      "WARNING:root:article 20667219; name: accepted; date: 2000/09/31 00:00; error: day is out of range for month\n",
      "WARNING:root:article 20667220; name: accepted; date: 2000/09/31 00:00; error: day is out of range for month\n",
      "WARNING:root:article 20667221; name: accepted; date: 2000/09/31 00:00; error: day is out of range for month\n",
      "WARNING:root:article 20667222; name: accepted; date: 2000/09/31 00:00; error: day is out of range for month\n",
      "WARNING:root:article 20667223; name: accepted; date: 2000/09/31 00:00; error: day is out of range for month\n",
      "WARNING:root:article 20667224; name: accepted; date: 2000/09/31 00:00; error: day is out of range for month\n",
      "WARNING:root:article 20667225; name: accepted; date: 2000/09/31 00:00; error: day is out of range for month\n",
      "WARNING:root:article 20667226; name: accepted; date: 2000/09/31 00:00; error: day is out of range for month\n",
      "WARNING:root:article 20667227; name: accepted; date: 2000/09/31 00:00; error: day is out of range for month\n",
      "WARNING:root:article 20667228; name: accepted; date: 2000/09/31 00:00; error: day is out of range for month\n",
      "WARNING:root:article 20667229; name: accepted; date: 2000/09/31 00:00; error: day is out of range for month\n",
      "WARNING:root:article 20667230; name: accepted; date: 2000/09/31 00:00; error: day is out of range for month\n",
      "WARNING:root:article 20667231; name: accepted; date: 2000/09/31 00:00; error: day is out of range for month\n",
      "WARNING:root:article 20667232; name: accepted; date: 2000/09/31 00:00; error: day is out of range for month\n",
      "WARNING:root:article 20667233; name: accepted; date: 2000/09/31 00:00; error: day is out of range for month\n",
      "WARNING:root:article 20667234; name: accepted; date: 2000/09/31 00:00; error: day is out of range for month\n",
      "WARNING:root:article 20667235; name: accepted; date: 2000/09/31 00:00; error: day is out of range for month\n",
      "WARNING:root:article 20667236; name: accepted; date: 2000/09/31 00:00; error: day is out of range for month\n",
      "WARNING:root:article 20667237; name: accepted; date: 2000/09/31 00:00; error: day is out of range for month\n",
      "WARNING:root:article 20667238; name: accepted; date: 2000/09/31 00:00; error: day is out of range for month\n",
      "WARNING:root:article 20667239; name: accepted; date: 2000/09/31 00:00; error: day is out of range for month\n",
      "WARNING:root:article 20667240; name: accepted; date: 2000/09/31 00:00; error: day is out of range for month\n",
      "WARNING:root:article 20667241; name: accepted; date: 2000/09/31 00:00; error: day is out of range for month\n",
      "WARNING:root:article 20667242; name: accepted; date: 2000/09/31 00:00; error: day is out of range for month\n",
      "WARNING:root:article 20667243; name: accepted; date: 2000/09/31 00:00; error: day is out of range for month\n",
      "WARNING:root:article 20667244; name: accepted; date: 2000/09/31 00:00; error: day is out of range for month\n",
      "WARNING:root:article 20667245; name: accepted; date: 2000/09/31 00:00; error: day is out of range for month\n",
      "WARNING:root:article 20667246; name: accepted; date: 2000/09/31 00:00; error: day is out of range for month\n",
      "WARNING:root:article 20667247; name: accepted; date: 2000/09/31 00:00; error: day is out of range for month\n",
      "WARNING:root:article 20667248; name: accepted; date: 2000/09/31 00:00; error: day is out of range for month\n",
      "WARNING:root:article 20667249; name: accepted; date: 2000/09/31 00:00; error: day is out of range for month\n",
      "WARNING:root:article 20667250; name: accepted; date: 2000/09/31 00:00; error: day is out of range for month\n",
      "WARNING:root:article 20667251; name: accepted; date: 2000/09/31 00:00; error: day is out of range for month\n",
      "WARNING:root:article 20667252; name: accepted; date: 2000/09/31 00:00; error: day is out of range for month\n",
      "WARNING:root:article 20667253; name: accepted; date: 2000/09/31 00:00; error: day is out of range for month\n",
      "WARNING:root:article 20667254; name: accepted; date: 2000/09/31 00:00; error: day is out of range for month\n",
      "WARNING:root:article 20667255; name: accepted; date: 2000/09/31 00:00; error: day is out of range for month\n",
      "WARNING:root:article 20667256; name: accepted; date: 2000/09/31 00:00; error: day is out of range for month\n",
      "WARNING:root:article 20667257; name: accepted; date: 2000/09/31 00:00; error: day is out of range for month\n",
      "WARNING:root:article 20667258; name: accepted; date: 2000/09/31 00:00; error: day is out of range for month\n",
      "WARNING:root:article 20667259; name: accepted; date: 2000/09/31 00:00; error: day is out of range for month\n",
      "WARNING:root:article 20689639; name: received; date: 2009/06/31 00:00; error: day is out of range for month\n",
      "WARNING:root:article 20711161; name: received; date: 2010/02/31 00:00; error: day is out of range for month\n",
      "WARNING:root:article 20795601; name: received; date: 2009/02/29 00:00; error: day is out of range for month\n",
      "WARNING:root:article 20871763; name: accepted; date: 2010/04/31 00:00; error: day is out of range for month\n",
      "WARNING:root:article 21085896; name: received; date: 2010/09/31 00:00; error: day is out of range for month\n",
      "WARNING:root:article 21113369; name: received; date: 2010/02/29 00:00; error: day is out of range for month\n",
      "WARNING:root:article 21218061; name: revised; date: 2010/02/29 00:00; error: day is out of range for month\n",
      "WARNING:root:article 21286281; name: revised; date: 2009/09/31 00:00; error: day is out of range for month\n",
      "WARNING:root:article 21342123; name: received; date: 2010/02/29 00:00; error: day is out of range for month\n",
      "WARNING:root:article 21476962; name: received; date: 2011/02/31 00:00; error: day is out of range for month\n",
      "WARNING:root:article 21532892; name: received; date: 2008/09/31 00:00; error: day is out of range for month\n",
      "WARNING:root:article 21532893; name: received; date: 2008/09/31 00:00; error: day is out of range for month\n",
      "WARNING:root:article 21552693; name: received; date: 2009/09/31 00:00; error: day is out of range for month\n",
      "WARNING:root:article 21566781; name: received; date: 2010/06/31 00:00; error: day is out of range for month\n",
      "WARNING:root:article 21577278; name: revised; date: 2011/02/29 00:00; error: day is out of range for month\n",
      "WARNING:root:article 21594133; name: received; date: 2010/06/31 00:00; error: day is out of range for month\n",
      "WARNING:root:article 21594180; name: accepted; date: 2010/06/31 00:00; error: day is out of range for month\n",
      "WARNING:root:article 21686125; name: received; date: 2010/11/31 00:00; error: day is out of range for month\n",
      "WARNING:root:article 21743412; name: accepted; date: 2010/11/31 00:00; error: day is out of range for month\n",
      "WARNING:root:article 21762071; name: accepted; date: 2011/02/29 00:00; error: day is out of range for month\n",
      "WARNING:root:article 21762073; name: accepted; date: 2011/02/29 00:00; error: day is out of range for month\n",
      "WARNING:root:article 21776428; name: received; date: 2010/06/31 00:00; error: day is out of range for month\n",
      "WARNING:root:article 21861809; name: received; date: 2011/02/29 00:00; error: day is out of range for month\n",
      "WARNING:root:article 21998787; name: accepted; date: 2010/06/31 00:00; error: day is out of range for month\n",
      "WARNING:root:article 21998795; name: received; date: 2010/02/30 00:00; error: day is out of range for month\n",
      "WARNING:root:article 22039383; name: accepted; date: 2011/02/29 00:00; error: day is out of range for month\n",
      "WARNING:root:article 22091261; name: accepted; date: 2011/02/29 00:00; error: day is out of range for month\n",
      "WARNING:root:article 22091270; name: accepted; date: 2011/02/29 00:00; error: day is out of range for month\n",
      "WARNING:root:article 22091274; name: accepted; date: 2011/02/30 00:00; error: day is out of range for month\n",
      "WARNING:root:article 22091276; name: accepted; date: 2011/02/29 00:00; error: day is out of range for month\n",
      "WARNING:root:article 22143702; name: accepted; date: 2011/09/31 00:00; error: day is out of range for month\n",
      "WARNING:root:article 22163566; name: accepted; date: 2010/06/31 00:00; error: day is out of range for month\n",
      "WARNING:root:article 22201583; name: accepted; date: 2010/11/31 00:00; error: day is out of range for month\n",
      "WARNING:root:article 22204324; name: received; date: 2010/09/31 00:00; error: day is out of range for month\n",
      "WARNING:root:article 22319303; name: revised; date: 2010/02/30 00:00; error: day is out of range for month\n",
      "WARNING:root:article 22319304; name: revised; date: 2010/02/30 00:00; error: day is out of range for month\n",
      "WARNING:root:article 22322507; name: accepted; date: 2011/09/31 00:00; error: day is out of range for month\n",
      "WARNING:root:article 22323845; name: accepted; date: 2011/11/31 00:00; error: day is out of range for month\n",
      "WARNING:root:article 22368344; name: received; date: 2011/04/31 00:00; error: day is out of range for month\n",
      "WARNING:root:article 22479545; name: accepted; date: 2012/02/30 00:00; error: day is out of range for month\n",
      "WARNING:root:article 22553569; name: received; date: 2010/06/31 00:00; error: day is out of range for month\n",
      "WARNING:root:article 22556931; name: accepted; date: 1999/02/30 00:00; error: day is out of range for month\n",
      "WARNING:root:article 22557215; name: received; date: 2005/11/31 00:00; error: day is out of range for month\n",
      "WARNING:root:article 22557684; name: received; date: 1989/02/29 00:00; error: day is out of range for month\n",
      "WARNING:root:article 22605955; name: accepted; date: 2005/06/31 00:00; error: day is out of range for month\n",
      "WARNING:root:article 22605956; name: accepted; date: 2005/06/31 00:00; error: day is out of range for month\n",
      "WARNING:root:article 22605959; name: accepted; date: 2005/06/31 00:00; error: day is out of range for month\n",
      "WARNING:root:article 22605960; name: accepted; date: 2005/06/31 00:00; error: day is out of range for month\n",
      "WARNING:root:article 22615608; name: accepted; date: 2010/02/29 00:00; error: day is out of range for month\n",
      "WARNING:root:article 22801515; name: accepted; date: 2010/02/29 00:00; error: day is out of range for month\n",
      "WARNING:root:article 22911963; name: revised; date: 2011/04/31 00:00; error: day is out of range for month\n",
      "WARNING:root:article 23092273; name: revised; date: 2012/09/31 00:00; error: day is out of range for month\n",
      "WARNING:root:article 23199226; name: revised; date: 2012/09/31 00:00; error: day is out of range for month\n",
      "WARNING:root:article 23229246; name: accepted; date: 2012/06/31 00:00; error: day is out of range for month\n",
      "WARNING:root:article 23229253; name: accepted; date: 2012/06/31 00:00; error: day is out of range for month\n",
      "WARNING:root:article 23241663; name: received; date: 2012/06/31 00:00; error: day is out of range for month\n",
      "WARNING:root:article 23550907; name: accepted; date: 2013/02/30 00:00; error: day is out of range for month\n",
      "WARNING:root:article 23616305; name: received; date: 2013/02/29 00:00; error: day is out of range for month\n",
      "WARNING:root:article 23722144; name: accepted; date: 2013/02/30 00:00; error: day is out of range for month\n",
      "WARNING:root:article 23822534; name: accepted; date: 2012/06/31 00:00; error: day is out of range for month\n",
      "WARNING:root:article 23859237; name: received; date: 2012/11/31 00:00; error: day is out of range for month\n",
      "WARNING:root:article 23892847; name: received; date: 2012/09/31 00:00; error: day is out of range for month\n",
      "WARNING:root:article 24585490; name: accepted; date: 2014/02/29 00:00; error: day is out of range for month\n",
      "WARNING:root:article 24749886; name: accepted; date: 2014/02/30 00:00; error: day is out of range for month\n",
      "WARNING:root:article 24837057; name: accepted; date: 2013/02/31 00:00; error: day is out of range for month\n",
      "WARNING:root:article 24856492; name: accepted; date: 2014/02/29 00:00; error: day is out of range for month\n",
      "WARNING:root:article 24942549; name: accepted; date: 2014/04/31 00:00; error: day is out of range for month\n",
      "WARNING:root:article 25012618; name: received; date: 2013/11/31 00:00; error: day is out of range for month\n",
      "WARNING:root:article 25213363; name: revised; date: 2014/04/31 00:00; error: day is out of range for month\n",
      "WARNING:root:article 25517446; name: accepted; date: 2014/11/31 00:00; error: day is out of range for month\n",
      "WARNING:root:article 25662539; name: accepted; date: 2014/11/31 00:00; error: day is out of range for month\n",
      "WARNING:root:article 25662550; name: accepted; date: 2014/11/31 00:00; error: day is out of range for month\n",
      "WARNING:root:article 25727942; name: accepted; date: 2014/09/31 00:00; error: day is out of range for month\n",
      "WARNING:root:article 25841504; name: received; date: 2014/04/31 00:00; error: day is out of range for month\n",
      "WARNING:root:article 25841505; name: received; date: 2014/04/31 00:00; error: day is out of range for month\n",
      "WARNING:root:article 25902703; name: accepted; date: 2015/04/31 00:00; error: day is out of range for month\n",
      "WARNING:root:article 26339914; name: accepted; date: 2015/02/29 00:00; error: day is out of range for month\n",
      "WARNING:root:article 27475683; name: accepted; date: 2016/04/31 00:00; error: day is out of range for month\n",
      "WARNING:root:article 27477265; name: received; date: 2011/02/29 00:00; error: day is out of range for month\n",
      "WARNING:root:article 27525355; name: accepted; date: 2016/06/31 00:00; error: day is out of range for month\n",
      "WARNING:root:article 27525380; name: accepted; date: 2016/06/31 00:00; error: day is out of range for month\n",
      "WARNING:root:article 27525443; name: accepted; date: 2016/06/31 00:00; error: day is out of range for month\n",
      "WARNING:root:article 27525507; name: accepted; date: 2016/06/31 00:00; error: day is out of range for month\n",
      "WARNING:root:article 27525564; name: accepted; date: 2016/06/31 00:00; error: day is out of range for month\n",
      "WARNING:root:article 27525671; name: accepted; date: 2016/06/31 00:00; error: day is out of range for month\n",
      "WARNING:root:article 27526035; name: accepted; date: 2016/06/31 00:00; error: day is out of range for month\n",
      "WARNING:root:article 27526228; name: accepted; date: 2016/06/31 00:00; error: day is out of range for month\n",
      "WARNING:root:article 27526392; name: accepted; date: 2016/06/31 00:00; error: day is out of range for month\n",
      "WARNING:root:article 27537073; name: accepted; date: 2016/06/31 00:00; error: day is out of range for month\n",
      "WARNING:root:article 27537207; name: accepted; date: 2016/06/31 00:00; error: day is out of range for month\n",
      "WARNING:root:article 27537212; name: accepted; date: 2016/06/31 00:00; error: day is out of range for month\n",
      "WARNING:root:article 27537350; name: accepted; date: 2016/06/31 00:00; error: day is out of range for month\n",
      "WARNING:root:article 27537528; name: accepted; date: 2016/06/31 00:00; error: day is out of range for month\n",
      "WARNING:root:article 27537822; name: accepted; date: 2016/06/31 00:00; error: day is out of range for month\n",
      "WARNING:root:article 27537832; name: accepted; date: 2016/06/31 00:00; error: day is out of range for month\n",
      "WARNING:root:article 27538054; name: accepted; date: 2016/06/31 00:00; error: day is out of range for month\n",
      "WARNING:root:article 27775825; name: revised; date: 2016/06/31 00:00; error: day is out of range for month\n"
     ]
    },
    {
     "name": "stdout",
     "output_type": "stream",
     "text": [
      "\n"
     ]
    }
   ],
   "source": [
    "path = os.path.join('download', 'esummary_journal-articles_1960-2017.xml.xz')\n",
    "articles = extract_articles_from_esummaries(path, n_article_ids, tqdm=tqdm.tqdm_notebook)"
   ]
  },
  {
   "cell_type": "code",
   "execution_count": 4,
   "metadata": {
    "collapsed": false,
    "deletable": true,
    "editable": true
   },
   "outputs": [
    {
     "name": "stdout",
     "output_type": "stream",
     "text": [
      "23,711,958 processed in esummary output\n"
     ]
    }
   ],
   "source": [
    "print(f'{len(articles):,} processed in esummary output')"
   ]
  },
  {
   "cell_type": "code",
   "execution_count": 5,
   "metadata": {
    "collapsed": true,
    "deletable": true,
    "editable": true
   },
   "outputs": [],
   "source": [
    "article_df = articles_to_dataframe(articles)"
   ]
  },
  {
   "cell_type": "code",
   "execution_count": 6,
   "metadata": {
    "collapsed": false,
    "deletable": true,
    "editable": true
   },
   "outputs": [
    {
     "data": {
      "text/plain": [
       "pubmed_id         0.000000\n",
       "journal_nlm_id    0.000000\n",
       "pubmed_0          0.000000\n",
       "medline_0         0.000000\n",
       "entrez_0          0.000000\n",
       "published         0.616432\n",
       "epub              0.755404\n",
       "pub               0.766884\n",
       "received_0        0.818268\n",
       "accepted_0        0.823275\n",
       "revised_0         0.911461\n",
       "pmc-release_0     0.997131\n",
       "revised_1         0.999797\n",
       "revised_2         0.999974\n",
       "version_0         0.999976\n",
       "received_1        0.999988\n",
       "revised_3         0.999994\n",
       "accepted_1        0.999996\n",
       "received_2        0.999999\n",
       "revised_4         0.999999\n",
       "revised_5         1.000000\n",
       "revised_6         1.000000\n",
       "retracted_0       1.000000\n",
       "dtype: float64"
      ]
     },
     "execution_count": 6,
     "metadata": {},
     "output_type": "execute_result"
    }
   ],
   "source": [
    "# Compute proportion missing for each column\n",
    "missing_pct = article_df.isnull().mean().sort_values()\n",
    "missing_pct"
   ]
  },
  {
   "cell_type": "code",
   "execution_count": 7,
   "metadata": {
    "collapsed": false,
    "deletable": true,
    "editable": true
   },
   "outputs": [
    {
     "data": {
      "text/html": [
       "<div>\n",
       "<table border=\"1\" class=\"dataframe\">\n",
       "  <thead>\n",
       "    <tr style=\"text-align: right;\">\n",
       "      <th></th>\n",
       "      <th>pubmed_id</th>\n",
       "      <th>journal_nlm_id</th>\n",
       "      <th>epub</th>\n",
       "      <th>pub</th>\n",
       "      <th>published</th>\n",
       "      <th>accepted_0</th>\n",
       "      <th>accepted_1</th>\n",
       "      <th>entrez_0</th>\n",
       "      <th>medline_0</th>\n",
       "      <th>pmc-release_0</th>\n",
       "      <th>...</th>\n",
       "      <th>received_2</th>\n",
       "      <th>retracted_0</th>\n",
       "      <th>revised_0</th>\n",
       "      <th>revised_1</th>\n",
       "      <th>revised_2</th>\n",
       "      <th>revised_3</th>\n",
       "      <th>revised_4</th>\n",
       "      <th>revised_5</th>\n",
       "      <th>revised_6</th>\n",
       "      <th>version_0</th>\n",
       "    </tr>\n",
       "  </thead>\n",
       "  <tbody>\n",
       "    <tr>\n",
       "      <th>23711956</th>\n",
       "      <td>28192874</td>\n",
       "      <td>8809128</td>\n",
       "      <td>2017-02-13</td>\n",
       "      <td>2017-02-13</td>\n",
       "      <td>2017-02-13</td>\n",
       "      <td>2017-02-02</td>\n",
       "      <td>NaN</td>\n",
       "      <td>2017-02-14</td>\n",
       "      <td>2017-02-14</td>\n",
       "      <td>NaN</td>\n",
       "      <td>...</td>\n",
       "      <td>NaN</td>\n",
       "      <td>NaN</td>\n",
       "      <td>2017-02-02</td>\n",
       "      <td>NaN</td>\n",
       "      <td>NaN</td>\n",
       "      <td>NaN</td>\n",
       "      <td>NaN</td>\n",
       "      <td>NaN</td>\n",
       "      <td>NaN</td>\n",
       "      <td>NaN</td>\n",
       "    </tr>\n",
       "    <tr>\n",
       "      <th>23711957</th>\n",
       "      <td>28192875</td>\n",
       "      <td>8809128</td>\n",
       "      <td>2017-02-13</td>\n",
       "      <td>2017-02-13</td>\n",
       "      <td>2017-02-13</td>\n",
       "      <td>2017-02-03</td>\n",
       "      <td>NaN</td>\n",
       "      <td>2017-02-14</td>\n",
       "      <td>2017-02-14</td>\n",
       "      <td>NaN</td>\n",
       "      <td>...</td>\n",
       "      <td>NaN</td>\n",
       "      <td>NaN</td>\n",
       "      <td>NaN</td>\n",
       "      <td>NaN</td>\n",
       "      <td>NaN</td>\n",
       "      <td>NaN</td>\n",
       "      <td>NaN</td>\n",
       "      <td>NaN</td>\n",
       "      <td>NaN</td>\n",
       "      <td>NaN</td>\n",
       "    </tr>\n",
       "  </tbody>\n",
       "</table>\n",
       "<p>2 rows × 23 columns</p>\n",
       "</div>"
      ],
      "text/plain": [
       "          pubmed_id journal_nlm_id        epub         pub   published  \\\n",
       "23711956   28192874        8809128  2017-02-13  2017-02-13  2017-02-13   \n",
       "23711957   28192875        8809128  2017-02-13  2017-02-13  2017-02-13   \n",
       "\n",
       "          accepted_0 accepted_1    entrez_0   medline_0 pmc-release_0  \\\n",
       "23711956  2017-02-02        NaN  2017-02-14  2017-02-14           NaN   \n",
       "23711957  2017-02-03        NaN  2017-02-14  2017-02-14           NaN   \n",
       "\n",
       "            ...    received_2 retracted_0   revised_0 revised_1 revised_2  \\\n",
       "23711956    ...           NaN         NaN  2017-02-02       NaN       NaN   \n",
       "23711957    ...           NaN         NaN         NaN       NaN       NaN   \n",
       "\n",
       "         revised_3 revised_4 revised_5 revised_6 version_0  \n",
       "23711956       NaN       NaN       NaN       NaN       NaN  \n",
       "23711957       NaN       NaN       NaN       NaN       NaN  \n",
       "\n",
       "[2 rows x 23 columns]"
      ]
     },
     "execution_count": 7,
     "metadata": {},
     "output_type": "execute_result"
    }
   ],
   "source": [
    "article_df.tail(2)"
   ]
  },
  {
   "cell_type": "code",
   "execution_count": 8,
   "metadata": {
    "collapsed": true,
    "deletable": true,
    "editable": true
   },
   "outputs": [],
   "source": [
    "# Save article_df\n",
    "path = os.path.join('data', 'history-dates.tsv.xz')\n",
    "article_df.to_csv(path, index=False, sep='\\t', compression='xz')"
   ]
  }
 ],
 "metadata": {
  "anaconda-cloud": {},
  "kernelspec": {
   "display_name": "Python [conda env:delays]",
   "language": "python",
   "name": "conda-env-delays-py"
  },
  "language_info": {
   "codemirror_mode": {
    "name": "ipython",
    "version": 3
   },
   "file_extension": ".py",
   "mimetype": "text/x-python",
   "name": "python",
   "nbconvert_exporter": "python",
   "pygments_lexer": "ipython3",
   "version": "3.6.0"
  },
  "widgets": {
   "state": {
    "e095f05eab2e4c7b8d54838e92141f6e": {
     "views": [
      {
       "cell_index": 7
      }
     ]
    }
   },
   "version": "1.2.0"
  }
 },
 "nbformat": 4,
 "nbformat_minor": 0
}
