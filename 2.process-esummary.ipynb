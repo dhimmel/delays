{
 "cells": [
  {
   "cell_type": "markdown",
   "metadata": {
    "deletable": true,
    "editable": true
   },
   "source": [
    "# Process PubMed data and export  to TSVs"
   ]
  },
  {
   "cell_type": "code",
   "execution_count": null,
   "metadata": {
    "collapsed": true,
    "deletable": true,
    "editable": true
   },
   "outputs": [],
   "source": [
    "import os\n",
    "\n",
    "import pandas\n",
    "\n",
    "from pydelays.xml_to_dates import extract_articles_from_esummaries"
   ]
  },
  {
   "cell_type": "markdown",
   "metadata": {
    "deletable": true,
    "editable": true
   },
   "source": [
    "# Extract historical dates from PubMed records"
   ]
  },
  {
   "cell_type": "code",
   "execution_count": null,
   "metadata": {
    "collapsed": false,
    "deletable": true,
    "editable": true
   },
   "outputs": [],
   "source": [
    "path = os.path.join('download', 'esearch_journal-articles_1960-2017.tsv.xz')\n",
    "n_article_ids = len(pandas.read_table(path))\n",
    "print(f'{n_article_ids:,} article IDs retrieved via esearch')"
   ]
  },
  {
   "cell_type": "code",
   "execution_count": null,
   "metadata": {
    "collapsed": false
   },
   "outputs": [],
   "source": [
    "path = os.path.join('download', 'esummary_journal-articles_1960-2017.xml.xz')\n",
    "articles = extract_articles_from_esummaries(path, n_article_ids)"
   ]
  },
  {
   "cell_type": "code",
   "execution_count": null,
   "metadata": {
    "collapsed": false,
    "deletable": true,
    "editable": true
   },
   "outputs": [],
   "source": [
    "print(f'{len(articles):,} processed in esummary output')"
   ]
  },
  {
   "cell_type": "code",
   "execution_count": null,
   "metadata": {
    "collapsed": true,
    "deletable": true,
    "editable": true
   },
   "outputs": [],
   "source": [
    "article_df = pandas.DataFrame(articles)\n",
    "article_df = article_df.sort_values(by='pubmed_id')"
   ]
  },
  {
   "cell_type": "code",
   "execution_count": null,
   "metadata": {
    "collapsed": false,
    "deletable": true,
    "editable": true
   },
   "outputs": [],
   "source": [
    "# Combine `aheadofprint` and `epublish`\n",
    "article_df['date_online'] = article_df['epub']\n",
    "#article_df['date_online'].fillna(article_df['epublish_0'], inplace=True)\n",
    "\n",
    "# Compute proportion missing for each column\n",
    "lead_columns = ['pubmed_id', 'journal_nlm_id']\n",
    "missing_pct = article_df.drop(lead_columns, axis=1).isnull().mean().sort_values()\n",
    "article_df = article_df[lead_columns + missing_pct.index.tolist()]\n",
    "missing_pct"
   ]
  },
  {
   "cell_type": "code",
   "execution_count": null,
   "metadata": {
    "collapsed": false,
    "deletable": true,
    "editable": true
   },
   "outputs": [],
   "source": [
    "article_df.tail()"
   ]
  },
  {
   "cell_type": "code",
   "execution_count": null,
   "metadata": {
    "collapsed": true,
    "deletable": true,
    "editable": true
   },
   "outputs": [],
   "source": [
    "# Save article_df\n",
    "path = os.path.join('data', 'history-dates.tsv.xz')\n",
    "article_df.to_csv(path, index=False, sep='\\t', compression='xz')"
   ]
  }
 ],
 "metadata": {
  "anaconda-cloud": {},
  "kernelspec": {
   "display_name": "Python [conda env:delays]",
   "language": "python",
   "name": "conda-env-delays-py"
  },
  "language_info": {
   "codemirror_mode": {
    "name": "ipython",
    "version": 3
   },
   "file_extension": ".py",
   "mimetype": "text/x-python",
   "name": "python",
   "nbconvert_exporter": "python",
   "pygments_lexer": "ipython3",
   "version": "3.6.0"
  },
  "widgets": {
   "state": {
    "e095f05eab2e4c7b8d54838e92141f6e": {
     "views": [
      {
       "cell_index": 7
      }
     ]
    }
   },
   "version": "1.2.0"
  }
 },
 "nbformat": 4,
 "nbformat_minor": 0
}
