{
 "cells": [
  {
   "cell_type": "markdown",
   "metadata": {},
   "source": [
    "# Investigating associations between journal prestige and delays"
   ]
  },
  {
   "cell_type": "code",
   "execution_count": 1,
   "metadata": {
    "collapsed": false
   },
   "outputs": [],
   "source": [
    "library(dplyr, warn=F)\n",
    "library(ggplot2)"
   ]
  },
  {
   "cell_type": "code",
   "execution_count": 2,
   "metadata": {
    "collapsed": false
   },
   "outputs": [],
   "source": [
    "journal_df = 'data/pubmed-journals.tsv' %>%\n",
    "  readr::read_tsv() %>% \n",
    "  dplyr::transmute(journal_nlm_id = NlmId, journal_abbrev = MedAbbr)"
   ]
  },
  {
   "cell_type": "code",
   "execution_count": 3,
   "metadata": {
    "collapsed": false
   },
   "outputs": [
    {
     "name": "stderr",
     "output_type": "stream",
     "text": [
      "Joining by: \"journal_nlm_id\"\n"
     ]
    },
    {
     "data": {
      "text/html": [
       "<table>\n",
       "<thead><tr><th></th><th scope=col>journal_nlm_id</th><th scope=col>journal_abbrev</th><th scope=col>IPP</th><th scope=col>SJR</th><th scope=col>SNIP</th></tr></thead>\n",
       "<tbody>\n",
       "\t<tr><th scope=row>1</th><td>0431420</td><td>AANA J</td><td>0.719</td><td>0.247</td><td>0.6</td></tr>\n",
       "\t<tr><th scope=row>2</th><td>14510400R</td><td>Acarologia</td><td>0.806</td><td>0.433</td><td>0.944</td></tr>\n",
       "</tbody>\n",
       "</table>\n"
      ],
      "text/latex": [
       "\\begin{tabular}{r|lllll}\n",
       "  & journal_nlm_id & journal_abbrev & IPP & SJR & SNIP\\\\\n",
       "\\hline\n",
       "\t1 & 0431420 & AANA J & 0.719 & 0.247 & 0.6\\\\\n",
       "\t2 & 14510400R & Acarologia & 0.806 & 0.433 & 0.944\\\\\n",
       "\\end{tabular}\n"
      ],
      "text/plain": [
       "Source: local data frame [2 x 5]\n",
       "\n",
       "  journal_nlm_id journal_abbrev   IPP   SJR  SNIP\n",
       "           (chr)          (chr) (dbl) (dbl) (dbl)\n",
       "1        0431420         AANA J 0.719 0.247 0.600\n",
       "2      14510400R     Acarologia 0.806 0.433 0.944"
      ]
     },
     "execution_count": 3,
     "metadata": {},
     "output_type": "execute_result"
    }
   ],
   "source": [
    "# Read 2014 SJR values\n",
    "metric_df = 'https://github.com/dhimmel/journalmetrics/raw/fb6797b680ff6d119ef21de8791c0573d44cf6c0/data/pubmed-metrics.tsv.gz' %>%\n",
    "  readr::read_tsv() %>%\n",
    "  tidyr::spread(key=metric, value=value) %>%\n",
    "  dplyr::filter(year == 2014) %>%\n",
    "  dplyr::select(-year)\n",
    "\n",
    "metric_df = journal_df %>%\n",
    "  dplyr::inner_join(metric_df)\n",
    "\n",
    "head(metric_df, 2)"
   ]
  },
  {
   "cell_type": "code",
   "execution_count": 4,
   "metadata": {
    "collapsed": false
   },
   "outputs": [
    {
     "name": "stderr",
     "output_type": "stream",
     "text": [
      "Joining by: \"journal_nlm_id\"\n"
     ]
    },
    {
     "data": {
      "text/html": [
       "<table>\n",
       "<thead><tr><th></th><th scope=col>journal_nlm_id</th><th scope=col>journal_abbrev</th><th scope=col>IPP</th><th scope=col>SJR</th><th scope=col>SNIP</th><th scope=col>delay_type</th><th scope=col>articles</th><th scope=col>slope</th></tr></thead>\n",
       "<tbody>\n",
       "\t<tr><th scope=row>1</th><td>0370270</td><td>Acta Anaesthesiol Scand</td><td>2.506</td><td>1.065</td><td>1.44</td><td>publish</td><td>545</td><td>-4.45365</td></tr>\n",
       "\t<tr><th scope=row>2</th><td>0370270</td><td>Acta Anaesthesiol Scand</td><td>2.506</td><td>1.065</td><td>1.44</td><td>accept</td><td>140</td><td>170.5078</td></tr>\n",
       "</tbody>\n",
       "</table>\n"
      ],
      "text/latex": [
       "\\begin{tabular}{r|llllllll}\n",
       "  & journal_nlm_id & journal_abbrev & IPP & SJR & SNIP & delay_type & articles & slope\\\\\n",
       "\\hline\n",
       "\t1 & 0370270 & Acta Anaesthesiol Scand & 2.506 & 1.065 & 1.44 & publish & 545 & -4.45365\\\\\n",
       "\t2 & 0370270 & Acta Anaesthesiol Scand & 2.506 & 1.065 & 1.44 & accept & 140 & 170.5078\\\\\n",
       "\\end{tabular}\n"
      ],
      "text/plain": [
       "Source: local data frame [2 x 8]\n",
       "\n",
       "  journal_nlm_id          journal_abbrev   IPP   SJR  SNIP delay_type articles\n",
       "           (chr)                   (chr) (dbl) (dbl) (dbl)      (chr)    (int)\n",
       "1        0370270 Acta Anaesthesiol Scand 2.506 1.065  1.44    publish      545\n",
       "2        0370270 Acta Anaesthesiol Scand 2.506 1.065  1.44     accept      140\n",
       "Variables not shown: slope (dbl)"
      ]
     },
     "execution_count": 4,
     "metadata": {},
     "output_type": "execute_result"
    }
   ],
   "source": [
    "# Read journal delay slopes\n",
    "slope_df = 'data/slopes.tsv' %>%\n",
    "  readr::read_tsv() %>%\n",
    "  dplyr::select(journal_nlm_id, delay_type, articles, slope)\n",
    "\n",
    "metric_df = metric_df %>%\n",
    "  dplyr::inner_join(slope_df)\n",
    "\n",
    "head(metric_df, 2)"
   ]
  },
  {
   "cell_type": "code",
   "execution_count": 5,
   "metadata": {
    "collapsed": false
   },
   "outputs": [
    {
     "name": "stderr",
     "output_type": "stream",
     "text": [
      "Joining by: c(\"journal_nlm_id\", \"delay_type\")\n"
     ]
    },
    {
     "data": {
      "text/html": [
       "<table>\n",
       "<thead><tr><th></th><th scope=col>journal_nlm_id</th><th scope=col>journal_abbrev</th><th scope=col>IPP</th><th scope=col>SJR</th><th scope=col>SNIP</th><th scope=col>delay_type</th><th scope=col>articles</th><th scope=col>slope</th><th scope=col>delay</th></tr></thead>\n",
       "<tbody>\n",
       "\t<tr><th scope=row>1</th><td>0370270</td><td>Acta Anaesthesiol Scand</td><td>2.506</td><td>1.065</td><td>1.44</td><td>publish</td><td>545</td><td>-4.45365</td><td>42</td></tr>\n",
       "\t<tr><th scope=row>2</th><td>0370270</td><td>Acta Anaesthesiol Scand</td><td>2.506</td><td>1.065</td><td>1.44</td><td>accept</td><td>140</td><td>170.5078</td><td>56.5</td></tr>\n",
       "</tbody>\n",
       "</table>\n"
      ],
      "text/latex": [
       "\\begin{tabular}{r|lllllllll}\n",
       "  & journal_nlm_id & journal_abbrev & IPP & SJR & SNIP & delay_type & articles & slope & delay\\\\\n",
       "\\hline\n",
       "\t1 & 0370270 & Acta Anaesthesiol Scand & 2.506 & 1.065 & 1.44 & publish & 545 & -4.45365 & 42\\\\\n",
       "\t2 & 0370270 & Acta Anaesthesiol Scand & 2.506 & 1.065 & 1.44 & accept & 140 & 170.5078 & 56.5\\\\\n",
       "\\end{tabular}\n"
      ],
      "text/plain": [
       "Source: local data frame [2 x 9]\n",
       "\n",
       "  journal_nlm_id          journal_abbrev   IPP   SJR  SNIP delay_type articles\n",
       "           (chr)                   (chr) (dbl) (dbl) (dbl)      (chr)    (int)\n",
       "1        0370270 Acta Anaesthesiol Scand 2.506 1.065  1.44    publish      545\n",
       "2        0370270 Acta Anaesthesiol Scand 2.506 1.065  1.44     accept      140\n",
       "Variables not shown: slope (dbl), delay (dbl)"
      ]
     },
     "execution_count": 5,
     "metadata": {},
     "output_type": "execute_result"
    }
   ],
   "source": [
    "# Read median journal delays\n",
    "delay_df = 'data/journal-summaries.tsv' %>%\n",
    "  readr::read_tsv() %>%\n",
    "  dplyr::select(journal_nlm_id, median_acceptance_delay, median_publication_delay) %>%\n",
    "  tidyr::gather(key=delay_type, value=delay, median_acceptance_delay, median_publication_delay) %>%\n",
    "  dplyr::mutate(delay_type = c(median_acceptance_delay='accept', median_publication_delay='publish')[delay_type])\n",
    "\n",
    "metric_df = metric_df %>%\n",
    "  dplyr::inner_join(delay_df)\n",
    "\n",
    "head(metric_df, 2)"
   ]
  },
  {
   "cell_type": "code",
   "execution_count": 6,
   "metadata": {
    "collapsed": true
   },
   "outputs": [],
   "source": [
    "metric_df %>%\n",
    "  readr::write_tsv(file.path('data', 'journal-metrics.tsv'), na='')"
   ]
  },
  {
   "cell_type": "code",
   "execution_count": 7,
   "metadata": {
    "collapsed": false
   },
   "outputs": [
    {
     "data": {
      "text/html": [
       "<table>\n",
       "<thead><tr><th></th><th scope=col>delay_type</th><th scope=col>journals</th></tr></thead>\n",
       "<tbody>\n",
       "\t<tr><th scope=row>1</th><td>accept</td><td>2577</td></tr>\n",
       "\t<tr><th scope=row>2</th><td>publish</td><td>2319</td></tr>\n",
       "</tbody>\n",
       "</table>\n"
      ],
      "text/latex": [
       "\\begin{tabular}{r|ll}\n",
       "  & delay_type & journals\\\\\n",
       "\\hline\n",
       "\t1 & accept & 2577\\\\\n",
       "\t2 & publish & 2319\\\\\n",
       "\\end{tabular}\n"
      ],
      "text/plain": [
       "Source: local data frame [2 x 2]\n",
       "\n",
       "  delay_type journals\n",
       "       (chr)    (int)\n",
       "1     accept     2577\n",
       "2    publish     2319"
      ]
     },
     "execution_count": 7,
     "metadata": {},
     "output_type": "execute_result"
    }
   ],
   "source": [
    "# Show journal counts with SJR and slope\n",
    "metric_df %>%\n",
    "  dplyr::filter(! is.na(SJR)) %>%\n",
    "  dplyr::group_by(delay_type) %>%\n",
    "  dplyr::summarize(journals = n())"
   ]
  },
  {
   "cell_type": "code",
   "execution_count": 10,
   "metadata": {
    "collapsed": false
   },
   "outputs": [],
   "source": [
    "mean_CI <- function(x) {t.test(x)$conf.int[1:2]}\n",
    "\n",
    "n_quantiles = 20\n",
    "\n",
    "format_gg <- function(gg) {\n",
    "  gg = gg + \n",
    "  ggplot2::facet_grid(. ~ delay_type, scales='free_x') +\n",
    "  ggplot2::stat_summary(fun.data = 'mean_cl_normal', geom = 'errorbar', width = 0.0, color = '#80a5f9') +\n",
    "  ggplot2::theme_bw() +\n",
    "  ggplot2::theme(plot.margin=grid::unit(c(2, 2, 2, 2), 'points')) +\n",
    "  ggplot2::theme(axis.ticks.x = element_blank(), axis.text.x = element_blank()) +\n",
    "  ggplot2::theme(strip.background = element_rect(fill = '#fef2e2')) +\n",
    "  ggplot2::scale_x_discrete(name=NULL)\n",
    "  return(gg)\n",
    "}\n",
    "\n",
    "delay_converter = c(accept='Acceptance', publish='Publication')\n",
    "\n",
    "gg_delay = metric_df %>%\n",
    "  dplyr::mutate(delay_type = delay_converter[delay_type]) %>%\n",
    "  dplyr::filter(! is.na(SJR)) %>%\n",
    "  dplyr::mutate(sjr_quantile = dplyr::ntile(SJR, n = n_quantiles)) %>%\n",
    "  ggplot2::ggplot(aes(x = sjr_quantile, y = delay)) %>%\n",
    "  format_gg() +\n",
    "  ggplot2::ylab('Median delay')\n",
    "\n",
    "gg_slope = metric_df %>%\n",
    "  dplyr::mutate(delay_type = delay_converter[delay_type]) %>%\n",
    "  dplyr::filter(! is.na(SJR)) %>%\n",
    "  dplyr::mutate(sjr_quantile = dplyr::ntile(SJR, n = n_quantiles)) %>%\n",
    "  ggplot2::ggplot(aes(x = sjr_quantile, y = slope)) +\n",
    "  ggplot2::geom_hline(yintercept = 0, linetype = 'dashed')\n",
    "gg_slope = format_gg(gg_slope) +\n",
    "  ggplot2::ylab('Δ days per year')\n",
    "\n",
    "gg = gridExtra::arrangeGrob(gg_delay, gg_slope, nrow=1, bottom = 'SJR quantile (journal prestige in 2014, low to high)')\n",
    "path = file.path('viz', 'journal-SJR.png')\n",
    "ggplot2::ggsave(filename = path, plot = gg, width = 5.5, height = 2.0)"
   ]
  },
  {
   "cell_type": "code",
   "execution_count": 9,
   "metadata": {
    "collapsed": false
   },
   "outputs": [],
   "source": [
    "plot_df = metric_df %>%\n",
    "  dplyr::mutate(delay_type = delay_converter[delay_type]) %>%\n",
    "  tidyr::gather(key='metric', value='value', IPP, SJR, SNIP) %>%\n",
    "  dplyr::filter(! is.na(value)) %>%\n",
    "  dplyr::group_by(delay_type, metric) %>%\n",
    "  dplyr::mutate(metric_quantile = dplyr::ntile(value, n = n_quantiles)) %>%\n",
    "  dplyr::ungroup()\n",
    "\n",
    "gg_delay = plot_df %>%\n",
    "  ggplot2::ggplot(aes(x = metric_quantile, y = delay)) %>%\n",
    "  format_gg() +\n",
    "  ggplot2::facet_grid(metric ~ delay_type) +\n",
    "  ggplot2::ylab('Median delay')\n",
    "\n",
    "gg_slope = plot_df %>%\n",
    "  ggplot2::ggplot(aes(x = metric_quantile, y = slope)) +\n",
    "  ggplot2::geom_hline(yintercept = 0, linetype = 'dashed')\n",
    "gg_slope = format_gg(gg_slope) +\n",
    "  ggplot2::facet_grid(metric ~ delay_type) +\n",
    "  ggplot2::ylab('Δ days per year')\n",
    "\n",
    "gg = gridExtra::arrangeGrob(gg_delay, gg_slope, nrow=1, bottom = 'Prestige quantile (2014 journal metrics, low to high)')\n",
    "path = file.path('viz', 'journal-metrics.png')\n",
    "ggplot2::ggsave(filename = path, plot = gg, width = 5.5, height = 3.5)"
   ]
  }
 ],
 "metadata": {
  "kernelspec": {
   "display_name": "R",
   "language": "R",
   "name": "ir"
  },
  "language_info": {
   "codemirror_mode": "r",
   "file_extension": ".r",
   "mimetype": "text/x-r-source",
   "name": "R",
   "pygments_lexer": "r",
   "version": "3.2.2"
  }
 },
 "nbformat": 4,
 "nbformat_minor": 0
}
