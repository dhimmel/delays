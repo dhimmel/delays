{
 "cells": [
  {
   "cell_type": "markdown",
   "metadata": {},
   "source": [
    "# Plot the median acceptance delays per year for select journals"
   ]
  },
  {
   "cell_type": "code",
   "execution_count": null,
   "metadata": {
    "collapsed": true
   },
   "outputs": [],
   "source": [
    "library(dplyr, warn=F)\n",
    "library(ggplot2)"
   ]
  },
  {
   "cell_type": "code",
   "execution_count": null,
   "metadata": {
    "collapsed": true
   },
   "outputs": [],
   "source": [
    "# Read history dates for all articles\n",
    "delay_df = file.path('data', 'delays.tsv.gz') %>%\n",
    "  readr::read_tsv(col_types = list(date = readr::col_date())) %>%\n",
    "  dplyr::mutate(year = lubridate::year(date)) %>%\n",
    "  dplyr::mutate(date_decimal = lubridate::decimal_date(date))"
   ]
  },
  {
   "cell_type": "code",
   "execution_count": null,
   "metadata": {
    "collapsed": false
   },
   "outputs": [],
   "source": [
    "median_df = delay_df %>%\n",
    "  dplyr::group_by(journal_nlm_id, delay_type, year) %>%\n",
    "  dplyr::summarize(\n",
    "    n_articles = n(),\n",
    "    median_delay = median(delay)\n",
    "  ) %>%\n",
    "  dplyr::ungroup()"
   ]
  },
  {
   "cell_type": "code",
   "execution_count": null,
   "metadata": {
    "collapsed": false
   },
   "outputs": [],
   "source": [
    "journal_df = file.path('data', 'pubmed-journals.tsv') %>%\n",
    "  readr::read_tsv() %>%\n",
    "  dplyr::transmute(journal_nlm_id = NlmId, journal_abbrev = MedAbbr)"
   ]
  },
  {
   "cell_type": "code",
   "execution_count": null,
   "metadata": {
    "collapsed": false
   },
   "outputs": [],
   "source": [
    "journals = c('Nature'='#801819', 'Cell'='#00558B', 'PLoS One'='#F8AF2D')\n",
    "\n",
    "gg = median_df %>%\n",
    "  dplyr::inner_join(journal_df) %>%\n",
    "  dplyr::filter(journal_abbrev %in% names(journals)) %>%\n",
    "  dplyr::filter(delay_type == 'Acceptance') %>%\n",
    "  dplyr::filter(n_articles > 35) %>%\n",
    "  ggplot2::ggplot(aes(x = year, y = median_delay, color = journal_abbrev)) +\n",
    "    ggplot2::geom_line(size = 1.5) +\n",
    "    ggplot2::scale_color_manual(name = NULL, values = journals) +\n",
    "    ggplot2::expand_limits(y = 0) +\n",
    "    ggplot2::theme_bw() +\n",
    "    ggplot2::theme(plot.margin=grid::unit(c(2, 2, 2, 2), 'points')) +\n",
    "    ggplot2::xlab('Year of acceptance') +\n",
    "    ggplot2::ylab('Median acceptance delay (days)') +\n",
    "    ggplot2::scale_x_continuous(breaks = seq(1950, 2016, 2)) +\n",
    "    ggplot2::scale_y_continuous(breaks = seq(0, 1000, 25)) +\n",
    "    ggplot2::theme(\n",
    "      legend.justification = c(1, 0),\n",
    "      legend.position = c(1, 0),\n",
    "      legend.key.width = grid::unit(2, 'lines'),\n",
    "      legend.key = ggplot2::element_blank(),\n",
    "      legend.text = ggplot2::element_text(face = 'italic')\n",
    "    )\n",
    "\n",
    "file.path('viz', 'specific-journals.pdf') %>%\n",
    "  ggplot2::ggsave(gg, width = 5.5, height = 4)"
   ]
  }
 ],
 "metadata": {
  "kernelspec": {
   "display_name": "R",
   "language": "R",
   "name": "ir"
  },
  "language_info": {
   "codemirror_mode": "r",
   "file_extension": ".r",
   "mimetype": "text/x-r-source",
   "name": "R",
   "pygments_lexer": "r",
   "version": "3.2.2"
  }
 },
 "nbformat": 4,
 "nbformat_minor": 0
}
