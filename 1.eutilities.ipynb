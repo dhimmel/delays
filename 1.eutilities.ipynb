{
 "cells": [
  {
   "cell_type": "markdown",
   "metadata": {
    "deletable": true,
    "editable": true
   },
   "source": [
    "# Massive PubMed record summary querier"
   ]
  },
  {
   "cell_type": "code",
   "execution_count": 1,
   "metadata": {
    "collapsed": false,
    "deletable": true,
    "editable": true
   },
   "outputs": [],
   "source": [
    "import lzma\n",
    "import os\n",
    "\n",
    "import pandas\n",
    "import tqdm\n",
    "\n",
    "from pydelays.eutilities import esearch_query, pubmed_esummary"
   ]
  },
  {
   "cell_type": "code",
   "execution_count": 3,
   "metadata": {
    "collapsed": true,
    "deletable": true,
    "editable": true
   },
   "outputs": [],
   "source": [
    "# Publication dates to query\n",
    "start_year = 1960\n",
    "end_year = 2017"
   ]
  },
  {
   "cell_type": "code",
   "execution_count": 4,
   "metadata": {
    "collapsed": true,
    "deletable": true,
    "editable": true
   },
   "outputs": [],
   "source": [
    "path_ids = os.path.join('download', f'esearch_journal-articles_{start_year}-{end_year}.tsv.xz')\n",
    "path_summaries = os.path.join('download', f'esummary_journal-articles_{start_year}-{end_year}.xml.xz')"
   ]
  },
  {
   "cell_type": "markdown",
   "metadata": {
    "deletable": true,
    "editable": true
   },
   "source": [
    "# `esearch`: retrieve all PubMed article IDs"
   ]
  },
  {
   "cell_type": "code",
   "execution_count": 6,
   "metadata": {
    "collapsed": false,
    "deletable": true,
    "editable": true
   },
   "outputs": [
    {
     "name": "stdout",
     "output_type": "stream",
     "text": [
      "\n"
     ]
    }
   ],
   "source": [
    "# Run esearch queries\n",
    "payload = {\n",
    "    'db': 'pubmed',\n",
    "    'term': f'journal article[Publication Type] AND {start_year}:{end_year}[Date - Publication]'\n",
    "}\n",
    "pubmed_ids = esearch_query(payload, tqdm=tqdm.tqdm_notebook)\n",
    "pubmed_ids = sorted(map(int, pubmed_ids))\n",
    "id_df = pandas.DataFrame({'pubmed_id': pubmed_ids})\n",
    "id_df.to_csv(path_ids, compression='xz', sep='\\t', index=False)"
   ]
  },
  {
   "cell_type": "markdown",
   "metadata": {
    "deletable": true,
    "editable": true
   },
   "source": [
    "# `esummary`: retrieve article summaries"
   ]
  },
  {
   "cell_type": "code",
   "execution_count": 7,
   "metadata": {
    "collapsed": false,
    "deletable": true,
    "editable": true
   },
   "outputs": [
    {
     "data": {
      "text/plain": [
       "'23,711,961 pubmed IDs'"
      ]
     },
     "execution_count": 7,
     "metadata": {},
     "output_type": "execute_result"
    }
   ],
   "source": [
    "# Read pubmed IDs\n",
    "pubmed_ids = list(pandas.read_table(path_ids).pubmed_id)\n",
    "f'{len(pubmed_ids):,} pubmed IDs'"
   ]
  },
  {
   "cell_type": "code",
   "execution_count": 9,
   "metadata": {
    "collapsed": false,
    "deletable": true,
    "editable": true,
    "scrolled": false
   },
   "outputs": [
    {
     "name": "stdout",
     "output_type": "stream",
     "text": [
      "9727500/|/ 41%|| 9727500/23711961 [5:03:24<8:05:42, 479.87articles/s]\n",
      "CPU times: user 4h 30min 53s, sys: 1min 48s, total: 4h 32min 41s\n",
      "Wall time: 13h 30min 56s\n"
     ]
    }
   ],
   "source": [
    "%%time\n",
    "# Run esummary queries\n",
    "with lzma.open(path_summaries, 'wt') as write_file:\n",
    "    pubmed_esummary(pubmed_ids, write_file, retmax=500, retmin=50, sleep=0, error_sleep=1, tqdm=tqdm.tqdm_notebook)"
   ]
  }
 ],
 "metadata": {
  "anaconda-cloud": {},
  "kernelspec": {
   "display_name": "Python [conda env:delays]",
   "language": "python",
   "name": "conda-env-delays-py"
  },
  "language_info": {
   "codemirror_mode": {
    "name": "ipython",
    "version": 3
   },
   "file_extension": ".py",
   "mimetype": "text/x-python",
   "name": "python",
   "nbconvert_exporter": "python",
   "pygments_lexer": "ipython3",
   "version": "3.6.0"
  },
  "widgets": {
   "state": {
    "5d54a907ed7d478ba50094f6523a96f7": {
     "views": [
      {
       "cell_index": 7
      }
     ]
    },
    "b9f9686bb8a24e7aa7244b48ec1d1937": {
     "views": [
      {
       "cell_index": 11
      }
     ]
    }
   },
   "version": "1.2.0"
  }
 },
 "nbformat": 4,
 "nbformat_minor": 0
}
