{
 "cells": [
  {
   "cell_type": "markdown",
   "metadata": {},
   "source": [
    "# Massive PubMed record summary querier"
   ]
  },
  {
   "cell_type": "code",
   "execution_count": null,
   "metadata": {
    "collapsed": true
   },
   "outputs": [],
   "source": [
    "import bz2\n",
    "import gzip\n",
    "import os\n",
    "import time\n",
    "import xml.etree.ElementTree\n",
    "\n",
    "import pandas\n",
    "import requests"
   ]
  },
  {
   "cell_type": "markdown",
   "metadata": {},
   "source": [
    "# `esearch`: retrieve all PubMed article IDs"
   ]
  },
  {
   "cell_type": "code",
   "execution_count": null,
   "metadata": {
    "collapsed": true
   },
   "outputs": [],
   "source": [
    "def esearch_query(payload, retmax = 10000, sleep=0.34):\n",
    "    \"\"\"\n",
    "    Return identifiers using the ESearch E-utility.\n",
    "    \"\"\"\n",
    "    url = 'http://eutils.ncbi.nlm.nih.gov/entrez/eutils/esearch.fcgi'\n",
    "    payload['rettype'] = 'xml'\n",
    "    payload['retmax'] = retmax\n",
    "    payload['retstart'] = 0\n",
    "    ids = list()\n",
    "    count = 1\n",
    "    while payload['retstart'] < count:\n",
    "        response = requests.get(url, params=payload)\n",
    "        tree = xml.etree.ElementTree.fromstring(response.text)\n",
    "        count = int(tree.findtext('Count'))\n",
    "        ids += [id_.text for id_ in tree.findall('IdList/Id')]\n",
    "        payload['retstart'] += retmax\n",
    "        print('esearch {:.3%} complete'.format(payload['retstart'] / count), end='\\r')\n",
    "        time.sleep(sleep)\n",
    "    return ids"
   ]
  },
  {
   "cell_type": "code",
   "execution_count": null,
   "metadata": {
    "collapsed": false
   },
   "outputs": [],
   "source": [
    "%%time\n",
    "# Run esearch queries\n",
    "payload = {'db': 'pubmed', 'term': 'journal article[pt] AND 1960:2015[pdat]', 'rettype': 'xml'}\n",
    "pubmed_ids = esearch_query(payload)\n",
    "pubmed_ids = sorted(map(int, pubmed_ids))\n",
    "len(pubmed_ids)"
   ]
  },
  {
   "cell_type": "code",
   "execution_count": null,
   "metadata": {
    "collapsed": true
   },
   "outputs": [],
   "source": [
    "# Save pubmed IDs to a TSV\n",
    "id_df = pandas.DataFrame({'pubmed_id': pubmed_ids})\n",
    "path = os.path.join('download', 'esearch_journal-articles_1960-2015.tsv.gz')\n",
    "with gzip.open(path, 'wt') as write_file:\n",
    "    id_df.to_csv(write_file, sep='\\t', index=False)"
   ]
  },
  {
   "cell_type": "markdown",
   "metadata": {},
   "source": [
    "# `esummary`: retrieve article summaries"
   ]
  },
  {
   "cell_type": "code",
   "execution_count": null,
   "metadata": {
    "collapsed": true
   },
   "outputs": [],
   "source": [
    "# Read pubmed IDs\n",
    "path = os.path.join('download', 'esearch_journal-articles_1960-2015.tsv.gz')\n",
    "pubmed_ids = list(pandas.read_table(path).pubmed_id)"
   ]
  },
  {
   "cell_type": "code",
   "execution_count": null,
   "metadata": {
    "collapsed": true
   },
   "outputs": [],
   "source": [
    "def pubmed_esummary(ids, write_file, retmax=100, sleep=0.34):\n",
    "    \"\"\"Submit an ESummary query for PubMed records and write results as xml to write_file.\"\"\"\n",
    "    url = 'http://eutils.ncbi.nlm.nih.gov/entrez/eutils/esummary.fcgi'\n",
    "    id_subsets = list(ids[i:i+retmax] for i in range(0, len(ids), retmax))\n",
    "    write_file.write('<eSummaryResult>\\n')\n",
    "    for i, id_subset in enumerate(id_subsets):\n",
    "        id_string = ','.join(map(str, id_subset))\n",
    "        payload = {'db': 'pubmed', 'id': id_string, 'rettype': 'xml'}\n",
    "        response = requests.get(url, params=payload)\n",
    "        tree = xml.etree.ElementTree.fromstring(response.text)\n",
    "        for docsum in tree.getchildren():\n",
    "            xml_str = xml.etree.ElementTree.tostring(docsum, encoding='unicode')\n",
    "            write_file.write(xml_str)\n",
    "        print('esearch {:.4%} complete'.format(i / len(id_subsets)), end='\\r')\n",
    "        time.sleep(sleep)\n",
    "    write_file.write('</eSummaryResult>\\n')"
   ]
  },
  {
   "cell_type": "code",
   "execution_count": null,
   "metadata": {
    "collapsed": false
   },
   "outputs": [],
   "source": [
    "%%time\n",
    "# Run esummary queries\n",
    "path = os.path.join('download', 'esummary_journal-articles_1960-2015.xml.bz2')\n",
    "with bz2.open(path, 'wt') as write_file:\n",
    "    pubmed_esummary(pubmed_ids, write_file)"
   ]
  }
 ],
 "metadata": {
  "kernelspec": {
   "display_name": "Python 3",
   "language": "python",
   "name": "python3"
  },
  "language_info": {
   "codemirror_mode": {
    "name": "ipython",
    "version": 3
   },
   "file_extension": ".py",
   "mimetype": "text/x-python",
   "name": "python",
   "nbconvert_exporter": "python",
   "pygments_lexer": "ipython3",
   "version": "3.5.1"
  }
 },
 "nbformat": 4,
 "nbformat_minor": 0
}
