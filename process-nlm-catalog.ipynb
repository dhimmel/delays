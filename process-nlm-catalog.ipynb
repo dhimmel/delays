{
 "cells": [
  {
   "cell_type": "markdown",
   "source": [
    "# Process PubMed journal catalog\n",
    "\n",
    "Download and process PubMed/NLM [journal catalog](http://www.ncbi.nlm.nih.gov/books/NBK3827/table/pubmedhelp.T.journal_lists/)."
   ],
   "metadata": {}
  },
  {
   "cell_type": "code",
   "execution_count": 1,
   "source": [
    "import os\n",
    "import re\n",
    "\n",
    "import pandas"
   ],
   "outputs": [],
   "metadata": {
    "collapsed": true
   }
  },
  {
   "cell_type": "code",
   "execution_count": 7,
   "source": [
    "# Download PubMed Journals\n",
    "url = 'ftp://ftp.ncbi.nih.gov/pubmed/J_Medline.txt'\n",
    "! wget --no-verbose --directory-prefix download --timestamping {url}"
   ],
   "outputs": [
    {
     "output_type": "stream",
     "name": "stdout",
     "text": [
      "2021-08-20 12:28:40 URL: ftp://ftp.ncbi.nih.gov/pubmed/J_Medline.txt [1127] -> \"download/.listing\" [1]\n",
      "2021-08-20 12:28:49 URL: ftp://ftp.ncbi.nih.gov/pubmed/J_Medline.txt [8112777] -> \"download/J_Medline.txt\" [1]\n"
     ]
    }
   ],
   "metadata": {
    "collapsed": false
   }
  },
  {
   "cell_type": "code",
   "execution_count": 8,
   "source": [
    "# Read PubMed journals\n",
    "path = os.path.join('download', 'J_Medline.txt')\n",
    "with open(path) as read_file:\n",
    "    text = read_file.read()"
   ],
   "outputs": [],
   "metadata": {
    "collapsed": false
   }
  },
  {
   "cell_type": "code",
   "execution_count": 9,
   "source": [
    "# Create a dataframe of PubMed journals\n",
    "rows = list()\n",
    "pattern = re.compile('^-+$', re.MULTILINE)\n",
    "for stanza in re.split(pattern, text):\n",
    "    stanza = stanza.strip()\n",
    "    if not stanza:\n",
    "        continue\n",
    "    row = dict()\n",
    "    for line in stanza.split('\\n'):\n",
    "        key, value = line.split(': ', 1)\n",
    "        row[key] = value or None\n",
    "    rows.append(row)\n",
    "\n",
    "journal_df = pandas.DataFrame(rows)\n",
    "journal_df = journal_df.sort_values(by='NlmId')"
   ],
   "outputs": [],
   "metadata": {
    "collapsed": false
   }
  },
  {
   "cell_type": "code",
   "execution_count": 10,
   "source": [
    "# Order columns by percent missing\n",
    "missing_pct = journal_df.isnull().mean().sort_values()\n",
    "journal_df = journal_df[missing_pct.index]\n",
    "missing_pct"
   ],
   "outputs": [
    {
     "output_type": "execute_result",
     "data": {
      "text/plain": [
       "JrId             0.000000\n",
       "JournalTitle     0.000000\n",
       "NlmId            0.000000\n",
       "MedAbbr          0.000029\n",
       "IsoAbbr          0.000029\n",
       "ISSN (Print)     0.243476\n",
       "ISSN (Online)    0.534139\n",
       "dtype: float64"
      ]
     },
     "metadata": {},
     "execution_count": 10
    }
   ],
   "metadata": {
    "collapsed": false
   }
  },
  {
   "cell_type": "code",
   "execution_count": 11,
   "source": [
    "# Save journal dataframe as a TSV\n",
    "path = 'data/pubmed-journals.tsv'\n",
    "journal_df.to_csv(path, sep='\\t', index=False)"
   ],
   "outputs": [],
   "metadata": {
    "collapsed": true
   }
  }
 ],
 "metadata": {
  "kernelspec": {
   "name": "python3",
   "display_name": "Python 3.9.6 64-bit ('scopus': conda)"
  },
  "language_info": {
   "codemirror_mode": {
    "name": "ipython",
    "version": 3
   },
   "file_extension": ".py",
   "mimetype": "text/x-python",
   "name": "python",
   "nbconvert_exporter": "python",
   "pygments_lexer": "ipython3",
   "version": "3.9.6"
  },
  "interpreter": {
   "hash": "0e356716c2af146b4f1229c16fd80fd2e17e74cbf6057515b63f09e4d327206c"
  }
 },
 "nbformat": 4,
 "nbformat_minor": 2
}