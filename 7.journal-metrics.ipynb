{
 "cells": [
  {
   "cell_type": "code",
   "execution_count": 1,
   "metadata": {
    "collapsed": true
   },
   "outputs": [],
   "source": [
    "library(dplyr, warn = F)\n",
    "library(ggplot2)"
   ]
  },
  {
   "cell_type": "markdown",
   "metadata": {},
   "source": [
    "## Read Scopus-PubMed mapping and delays"
   ]
  },
  {
   "cell_type": "code",
   "execution_count": 2,
   "metadata": {
    "collapsed": true
   },
   "outputs": [],
   "source": [
    "scopus_base_url = 'https://github.com/dhimmel/journalmetrics/raw/34c000d4a00adf02b25a3b62a7d5e5e437091c1a/data/'\n",
    "scopus_col_types = list(scopus_id = readr::col_character()) # R fails with big integers like `2200147401`"
   ]
  },
  {
   "cell_type": "code",
   "execution_count": 3,
   "metadata": {
    "collapsed": false
   },
   "outputs": [
    {
     "data": {
      "text/html": [
       "<table>\n",
       "<thead><tr><th></th><th scope=col>journal_nlm_id</th><th scope=col>scopus_id</th></tr></thead>\n",
       "<tbody>\n",
       "\t<tr><th scope=row>1</th><td>0431420</td><td>26729</td></tr>\n",
       "\t<tr><th scope=row>2</th><td>1251052</td><td>70264</td></tr>\n",
       "</tbody>\n",
       "</table>\n"
      ],
      "text/latex": [
       "\\begin{tabular}{r|ll}\n",
       "  & journal_nlm_id & scopus_id\\\\\n",
       "\\hline\n",
       "\t1 & 0431420 & 26729\\\\\n",
       "\t2 & 1251052 & 70264\\\\\n",
       "\\end{tabular}\n"
      ],
      "text/plain": [
       "Source: local data frame [2 x 2]\n",
       "\n",
       "  journal_nlm_id scopus_id\n",
       "           (chr)     (chr)\n",
       "1        0431420     26729\n",
       "2        1251052     70264"
      ]
     },
     "execution_count": 3,
     "metadata": {},
     "output_type": "execute_result"
    }
   ],
   "source": [
    "# Read scopus-pubmed mapping\n",
    "scopus_map_df = paste0(scopus_base_url, 'pubmed-map.tsv') %>%\n",
    "  readr::read_tsv(col_types = scopus_col_types)\n",
    "head(scopus_map_df, 2)"
   ]
  },
  {
   "cell_type": "code",
   "execution_count": 4,
   "metadata": {
    "collapsed": false
   },
   "outputs": [
    {
     "name": "stderr",
     "output_type": "stream",
     "text": [
      "Joining by: \"journal_nlm_id\"\n"
     ]
    },
    {
     "data": {
      "text/html": [
       "<table>\n",
       "<thead><tr><th></th><th scope=col>pubmed_id</th><th scope=col>delay_type</th><th scope=col>date</th><th scope=col>delay</th><th scope=col>scopus_id</th></tr></thead>\n",
       "<tbody>\n",
       "\t<tr><th scope=row>1</th><td>22221113</td><td>Acceptance</td><td>2011-11-15</td><td>111</td><td>12547</td></tr>\n",
       "\t<tr><th scope=row>2</th><td>22221113</td><td>Publication</td><td>2012-01-05</td><td>51</td><td>12547</td></tr>\n",
       "</tbody>\n",
       "</table>\n"
      ],
      "text/latex": [
       "\\begin{tabular}{r|lllll}\n",
       "  & pubmed_id & delay_type & date & delay & scopus_id\\\\\n",
       "\\hline\n",
       "\t1 & 22221113 & Acceptance & 2011-11-15 & 111 & 12547\\\\\n",
       "\t2 & 22221113 & Publication & 2012-01-05 & 51 & 12547\\\\\n",
       "\\end{tabular}\n"
      ],
      "text/plain": [
       "Source: local data frame [2 x 5]\n",
       "\n",
       "  pubmed_id  delay_type       date delay scopus_id\n",
       "      (int)       (chr)     (date) (int)     (chr)\n",
       "1  22221113  Acceptance 2011-11-15   111     12547\n",
       "2  22221113 Publication 2012-01-05    51     12547"
      ]
     },
     "execution_count": 4,
     "metadata": {},
     "output_type": "execute_result"
    }
   ],
   "source": [
    "# Read delays\n",
    "delay_df = 'data/delays.tsv.gz' %>%\n",
    "  readr::read_tsv(col_types = list(\n",
    "    journal_nlm_id = readr::col_character(),\n",
    "    date = readr::col_date()\n",
    "  )) %>%\n",
    "  dplyr::inner_join(scopus_map_df) %>%\n",
    "  dplyr::select(-journal_nlm_id) %>% \n",
    "  dplyr::distinct(pubmed_id, delay_type)\n",
    "\n",
    "head(delay_df, 2)"
   ]
  },
  {
   "cell_type": "markdown",
   "metadata": {},
   "source": [
    "## Facet-category plotting functions"
   ]
  },
  {
   "cell_type": "code",
   "execution_count": 12,
   "metadata": {
    "collapsed": true
   },
   "outputs": [],
   "source": [
    "pad <- function(x) {\n",
    "  return(sprintf('%-5s', x))\n",
    "}\n",
    "\n",
    "abbreviate_number <- function(x) {\n",
    "  if (nchar(x) <= 3) {return(pad(x))}\n",
    "  if (nchar(x) <= 5) {\n",
    "    return(pad(paste0(signif(x / 1e3, digits = 2), 'K')))\n",
    "  }\n",
    "  if (nchar(x) <= 6) {\n",
    "    return(pad(paste0(round(x / 1e3), 'K')))\n",
    "  }\n",
    "  return(pad(paste0(signif(x / 1e6, digits = 2), 'M')))\n",
    "}\n",
    "\n",
    "abbreviate_number <- Vectorize(abbreviate_number)"
   ]
  },
  {
   "cell_type": "code",
   "execution_count": 35,
   "metadata": {
    "collapsed": false
   },
   "outputs": [],
   "source": [
    "summarize_delays <- function(df) {\n",
    "  #\n",
    "  ci = t.test(df$delay, conf.level = 0.99)$conf.int\n",
    "  mid = mean(df$delay)\n",
    "  data.frame(\n",
    "    n_articles = nrow(df),\n",
    "    n_journals = dplyr::n_distinct(df$scopus_id),\n",
    "    median = median(df$delay),\n",
    "    low = ci[1],\n",
    "    mid = mid,\n",
    "    high = ci[2]\n",
    "  )  \n",
    "}\n",
    "\n",
    "\n",
    "prepare_gg <- function(article_df) {\n",
    "  categories = article_df %>%\n",
    "    dplyr::distinct(category) %>%\n",
    "    dplyr::arrange(mid) %>%\n",
    "    .[['category']]\n",
    "\n",
    "  gg = article_df %>%\n",
    "  dplyr::mutate(category = factor(category, levels=categories)) %>%\n",
    "  ggplot2::ggplot(ggplot2::aes(y = category)) +\n",
    "  geom_errorbarh(aes(xmax = mid), height=0, size=4, xmin=0, x=0, color='#80A5F9') +\n",
    "  geom_point(aes(x = median), size=1, color='#E4F1FE') +\n",
    "  geom_errorbarh(aes(xmin = low, x = mid, xmax = high), height=0, size=1, color='#0000FF') +\n",
    "  ggplot2::facet_grid(facet ~ delay_type, scales='free', space='free_y', shrink = TRUE) +\n",
    "  ggplot2::theme_bw() +\n",
    "  ggplot2::scale_x_continuous(name = 'Days of delay', ) +\n",
    "  ggplot2::scale_y_discrete(name = NULL) +\n",
    "  ggplot2::expand_limits(x = 0) +\n",
    "  ggplot2::theme(strip.background = element_rect(fill = '#FEF2E2')) +\n",
    "  ggplot2::theme(axis.text.y = ggplot2::element_text(size = 8, angle = 30, hjust = 1)) +\n",
    "  ggplot2::theme(plot.margin=grid::unit(c(2, 2, 2, 2), 'points')) +\n",
    "  ggplot2::geom_text(aes(label = abbreviate_number(n_articles)), x = 0, hjust = -0.1, size=2, color='#E4F1FE')\n",
    "\n",
    "return(gg)\n",
    "}\n",
    "\n",
    "\n",
    "plot_by_category <- function(article_df) {\n",
    "  gg_summary_df = article_df %>%\n",
    "    dplyr::group_by(delay_type, facet, category) %>%\n",
    "    dplyr::filter(n() >= 100) %>%\n",
    "    dplyr::filter(dplyr::n_distinct(scopus_id) >= 5) %>%\n",
    "    dplyr::do(summarize_delays(.)) %>%\n",
    "    dplyr::ungroup()\n",
    "\n",
    "  gg_accept = prepare_gg(gg_summary_df %>% dplyr::filter(delay_type == 'Acceptance')) \n",
    "  gg_publish = prepare_gg(gg_summary_df %>% dplyr::filter(delay_type == 'Publication'))\n",
    "  gg = gridExtra::arrangeGrob(gg_accept, gg_publish, nrow=1)\n",
    "  return(gg)   \n",
    "}"
   ]
  },
  {
   "cell_type": "markdown",
   "metadata": {},
   "source": [
    "## Subject comparison"
   ]
  },
  {
   "cell_type": "code",
   "execution_count": 23,
   "metadata": {
    "collapsed": false
   },
   "outputs": [
    {
     "data": {
      "text/html": [
       "<table>\n",
       "<thead><tr><th></th><th scope=col>scopus_id</th><th scope=col>asjc_code</th><th scope=col>asjc_description</th></tr></thead>\n",
       "<tbody>\n",
       "\t<tr><th scope=row>1</th><td>12000</td><td>1700</td><td>Computer Science</td></tr>\n",
       "\t<tr><th scope=row>2</th><td>12000</td><td>3300</td><td>Social Sciences</td></tr>\n",
       "</tbody>\n",
       "</table>\n"
      ],
      "text/latex": [
       "\\begin{tabular}{r|lll}\n",
       "  & scopus_id & asjc_code & asjc_description\\\\\n",
       "\\hline\n",
       "\t1 & 12000 & 1700 & Computer Science\\\\\n",
       "\t2 & 12000 & 3300 & Social Sciences\\\\\n",
       "\\end{tabular}\n"
      ],
      "text/plain": [
       "Source: local data frame [2 x 3]\n",
       "\n",
       "  scopus_id asjc_code asjc_description\n",
       "      (chr)     (int)            (chr)\n",
       "1     12000      1700 Computer Science\n",
       "2     12000      3300  Social Sciences"
      ]
     },
     "execution_count": 23,
     "metadata": {},
     "output_type": "execute_result"
    }
   ],
   "source": [
    "# Read scopus subject areas\n",
    "subject_df = paste0(scopus_base_url, 'subject-areas.tsv') %>%\n",
    "  readr::read_tsv(col_types = scopus_col_types)\n",
    "head(subject_df, 2)"
   ]
  },
  {
   "cell_type": "code",
   "execution_count": 24,
   "metadata": {
    "collapsed": false
   },
   "outputs": [
    {
     "data": {
      "text/html": [
       "<table>\n",
       "<thead><tr><th></th><th scope=col>scopus_id</th><th scope=col>top_level_subject</th></tr></thead>\n",
       "<tbody>\n",
       "\t<tr><th scope=row>1</th><td>12000</td><td>Physical Sciences</td></tr>\n",
       "\t<tr><th scope=row>2</th><td>12000</td><td>Social Sciences</td></tr>\n",
       "</tbody>\n",
       "</table>\n"
      ],
      "text/latex": [
       "\\begin{tabular}{r|ll}\n",
       "  & scopus_id & top_level_subject\\\\\n",
       "\\hline\n",
       "\t1 & 12000 & Physical Sciences\\\\\n",
       "\t2 & 12000 & Social Sciences\\\\\n",
       "\\end{tabular}\n"
      ],
      "text/plain": [
       "Source: local data frame [2 x 2]\n",
       "\n",
       "  scopus_id top_level_subject\n",
       "      (chr)             (chr)\n",
       "1     12000 Physical Sciences\n",
       "2     12000   Social Sciences"
      ]
     },
     "execution_count": 24,
     "metadata": {},
     "output_type": "execute_result"
    }
   ],
   "source": [
    "# Read scopus top-level subjects\n",
    "top_df = paste0(scopus_base_url, 'title-top-levels.tsv') %>%\n",
    "  readr::read_tsv(col_types = scopus_col_types)\n",
    "head(top_df, 2)"
   ]
  },
  {
   "cell_type": "code",
   "execution_count": 25,
   "metadata": {
    "collapsed": false
   },
   "outputs": [
    {
     "name": "stderr",
     "output_type": "stream",
     "text": [
      "Joining by: \"scopus_id\"\n",
      "Joining by: \"scopus_id\"\n"
     ]
    },
    {
     "data": {
      "text/html": [
       "<table>\n",
       "<thead><tr><th></th><th scope=col>pubmed_id</th><th scope=col>delay_type</th><th scope=col>date</th><th scope=col>delay</th><th scope=col>scopus_id</th><th scope=col>category</th><th scope=col>facet</th></tr></thead>\n",
       "<tbody>\n",
       "\t<tr><th scope=row>1</th><td>22221113</td><td>Acceptance</td><td>2011-11-15</td><td>111</td><td>12547</td><td>Health Sciences</td><td>Top-Level</td></tr>\n",
       "\t<tr><th scope=row>2</th><td>22221113</td><td>Publication</td><td>2012-01-05</td><td>51</td><td>12547</td><td>Health Sciences</td><td>Top-Level</td></tr>\n",
       "</tbody>\n",
       "</table>\n"
      ],
      "text/latex": [
       "\\begin{tabular}{r|lllllll}\n",
       "  & pubmed_id & delay_type & date & delay & scopus_id & category & facet\\\\\n",
       "\\hline\n",
       "\t1 & 22221113 & Acceptance & 2011-11-15 & 111 & 12547 & Health Sciences & Top-Level\\\\\n",
       "\t2 & 22221113 & Publication & 2012-01-05 & 51 & 12547 & Health Sciences & Top-Level\\\\\n",
       "\\end{tabular}\n"
      ],
      "text/plain": [
       "Source: local data frame [2 x 7]\n",
       "\n",
       "  pubmed_id  delay_type       date delay scopus_id        category     facet\n",
       "      (int)       (chr)     (date) (int)     (chr)           (chr)     (chr)\n",
       "1  22221113  Acceptance 2011-11-15   111     12547 Health Sciences Top-Level\n",
       "2  22221113 Publication 2012-01-05    51     12547 Health Sciences Top-Level"
      ]
     },
     "execution_count": 25,
     "metadata": {},
     "output_type": "execute_result"
    }
   ],
   "source": [
    "gg_category_df = dplyr::bind_rows(\n",
    "  delay_df %>%\n",
    "    dplyr::inner_join(top_df) %>%\n",
    "    dplyr::rename(category = top_level_subject) %>%\n",
    "    dplyr::mutate(facet = 'Top-Level'),\n",
    "  delay_df %>%\n",
    "    dplyr::inner_join(subject_df) %>%\n",
    "    dplyr::select(-asjc_code) %>%\n",
    "    dplyr::rename(category = asjc_description) %>%\n",
    "    dplyr::mutate(facet = 'Subject Area')\n",
    ")\n",
    "\n",
    "head(gg_category_df, 2)"
   ]
  },
  {
   "cell_type": "code",
   "execution_count": 29,
   "metadata": {
    "collapsed": false
   },
   "outputs": [],
   "source": [
    "gg = plot_by_category(gg_category_df)\n",
    "ggplot2::ggsave('viz/delays-by-subject.pdf', gg, width=8, height=6)"
   ]
  },
  {
   "cell_type": "markdown",
   "metadata": {},
   "source": [
    "## Journal attributes"
   ]
  },
  {
   "cell_type": "code",
   "execution_count": 7,
   "metadata": {
    "collapsed": false
   },
   "outputs": [
    {
     "data": {
      "text/html": [
       "<table>\n",
       "<thead><tr><th></th><th scope=col>scopus_id</th><th scope=col>active</th><th scope=col>open_access</th><th scope=col>main_publisher</th><th scope=col>source_type</th><th scope=col>publisher_country</th></tr></thead>\n",
       "<tbody>\n",
       "\t<tr><th scope=row>1</th><td>12000</td><td>0</td><td>1</td><td>Columbus State University</td><td>Journal</td><td>United States</td></tr>\n",
       "\t<tr><th scope=row>2</th><td>12001</td><td>1</td><td>1</td><td>Society for the Experimental Analysis of Behavior, Inc.</td><td>Journal</td><td>United States</td></tr>\n",
       "</tbody>\n",
       "</table>\n"
      ],
      "text/latex": [
       "\\begin{tabular}{r|llllll}\n",
       "  & scopus_id & active & open_access & main_publisher & source_type & publisher_country\\\\\n",
       "\\hline\n",
       "\t1 & 12000 & 0 & 1 & Columbus State University & Journal & United States\\\\\n",
       "\t2 & 12001 & 1 & 1 & Society for the Experimental Analysis of Behavior, Inc. & Journal & United States\\\\\n",
       "\\end{tabular}\n"
      ],
      "text/plain": [
       "Source: local data frame [2 x 6]\n",
       "\n",
       "  scopus_id active open_access\n",
       "      (chr)  (int)       (int)\n",
       "1     12000      0           1\n",
       "2     12001      1           1\n",
       "Variables not shown: main_publisher (chr), source_type (chr), publisher_country\n",
       "  (chr)"
      ]
     },
     "execution_count": 7,
     "metadata": {},
     "output_type": "execute_result"
    }
   ],
   "source": [
    "# Read scopus title attibutes\n",
    "attribute_df = paste0(scopus_base_url, 'title-attributes.tsv') %>%\n",
    "  readr::read_tsv(col_types = scopus_col_types)\n",
    "head(attribute_df, 2)"
   ]
  },
  {
   "cell_type": "code",
   "execution_count": 8,
   "metadata": {
    "collapsed": false
   },
   "outputs": [
    {
     "name": "stderr",
     "output_type": "stream",
     "text": [
      "Joining by: \"scopus_id\"\n"
     ]
    },
    {
     "data": {
      "text/html": [
       "<table>\n",
       "<thead><tr><th></th><th scope=col>scopus_id</th><th scope=col>pubmed_id</th><th scope=col>delay_type</th><th scope=col>date</th><th scope=col>delay</th><th scope=col>facet</th><th scope=col>category</th></tr></thead>\n",
       "<tbody>\n",
       "\t<tr><th scope=row>1</th><td>12001</td><td>19794831</td><td>Acceptance</td><td>2008-10-07</td><td>124</td><td>Active</td><td>Active</td></tr>\n",
       "\t<tr><th scope=row>2</th><td>12001</td><td>19794832</td><td>Acceptance</td><td>2008-11-17</td><td>42</td><td>Active</td><td>Active</td></tr>\n",
       "</tbody>\n",
       "</table>\n"
      ],
      "text/latex": [
       "\\begin{tabular}{r|lllllll}\n",
       "  & scopus_id & pubmed_id & delay_type & date & delay & facet & category\\\\\n",
       "\\hline\n",
       "\t1 & 12001 & 19794831 & Acceptance & 2008-10-07 & 124 & Active & Active\\\\\n",
       "\t2 & 12001 & 19794832 & Acceptance & 2008-11-17 & 42 & Active & Active\\\\\n",
       "\\end{tabular}\n"
      ],
      "text/plain": [
       "Source: local data frame [2 x 7]\n",
       "\n",
       "  scopus_id pubmed_id delay_type       date delay  facet category\n",
       "      (chr)     (int)      (chr)     (date) (int)  (chr)    (chr)\n",
       "1     12001  19794831 Acceptance 2008-10-07   124 Active   Active\n",
       "2     12001  19794832 Acceptance 2008-11-17    42 Active   Active"
      ]
     },
     "execution_count": 8,
     "metadata": {},
     "output_type": "execute_result"
    }
   ],
   "source": [
    "gg_attribute_df = attribute_df %>%\n",
    "  dplyr::mutate(open_access = c('0'='Closed', '1'='Open')[as.character(open_access)]) %>%\n",
    "  dplyr::mutate(active = c('0'='Inactive', '1'='Active')[as.character(active)]) %>%\n",
    "  dplyr::select(-source_type) %>%\n",
    "  dplyr::inner_join(delay_df) %>%\n",
    "  tidyr::gather(key = 'facet', value = 'category', active:publisher_country) %>%\n",
    "  dplyr::mutate(facet=c(active='Active', open_access='Open', main_publisher='Publisher', publisher_country='Publisher Country')[facet])\n",
    "\n",
    "head(gg_attribute_df, 2)"
   ]
  },
  {
   "cell_type": "code",
   "execution_count": 36,
   "metadata": {
    "collapsed": false
   },
   "outputs": [],
   "source": [
    "gg = plot_by_category(gg_attribute_df)\n",
    "ggplot2::ggsave('viz/delays-by-attribute.pdf', gg, width=12, height=16)"
   ]
  }
 ],
 "metadata": {
  "kernelspec": {
   "display_name": "R",
   "language": "R",
   "name": "ir"
  },
  "language_info": {
   "codemirror_mode": "r",
   "file_extension": ".r",
   "mimetype": "text/x-r-source",
   "name": "R",
   "pygments_lexer": "r",
   "version": "3.2.2"
  }
 },
 "nbformat": 4,
 "nbformat_minor": 0
}
