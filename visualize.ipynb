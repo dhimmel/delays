{
 "cells": [
  {
   "cell_type": "markdown",
   "metadata": {},
   "source": [
    "# Visualizing trends in publishing delays"
   ]
  },
  {
   "cell_type": "code",
   "execution_count": 14,
   "metadata": {
    "collapsed": false
   },
   "outputs": [],
   "source": [
    "import gzip\n",
    "import os\n",
    "import datetime\n",
    "import calendar\n",
    "\n",
    "import pandas\n",
    "import matplotlib\n",
    "import seaborn\n",
    "%matplotlib inline"
   ]
  },
  {
   "cell_type": "code",
   "execution_count": 10,
   "metadata": {
    "collapsed": false
   },
   "outputs": [
    {
     "data": {
      "text/html": [
       "<div>\n",
       "<table border=\"1\" class=\"dataframe\">\n",
       "  <thead>\n",
       "    <tr style=\"text-align: right;\">\n",
       "      <th></th>\n",
       "      <th>journal</th>\n",
       "      <th>journal_issn</th>\n",
       "      <th>pubmed_id</th>\n",
       "      <th>received</th>\n",
       "      <th>revised</th>\n",
       "      <th>accepted</th>\n",
       "      <th>date_online</th>\n",
       "      <th>acceptance_delay</th>\n",
       "      <th>publication_delay</th>\n",
       "    </tr>\n",
       "  </thead>\n",
       "  <tbody>\n",
       "    <tr>\n",
       "      <th>0</th>\n",
       "      <td>Astrophys J</td>\n",
       "      <td>0004-637X</td>\n",
       "      <td>10727377</td>\n",
       "      <td>2000-01-04</td>\n",
       "      <td>nan</td>\n",
       "      <td>2000-02-22</td>\n",
       "      <td>2000-03-16</td>\n",
       "      <td>49</td>\n",
       "      <td>23</td>\n",
       "    </tr>\n",
       "    <tr>\n",
       "      <th>1</th>\n",
       "      <td>Astrophys J</td>\n",
       "      <td>0004-637X</td>\n",
       "      <td>10727379</td>\n",
       "      <td>2000-01-31</td>\n",
       "      <td>nan</td>\n",
       "      <td>2000-02-28</td>\n",
       "      <td>2000-03-16</td>\n",
       "      <td>28</td>\n",
       "      <td>17</td>\n",
       "    </tr>\n",
       "    <tr>\n",
       "      <th>2</th>\n",
       "      <td>Astrophys J</td>\n",
       "      <td>0004-637X</td>\n",
       "      <td>10727380</td>\n",
       "      <td>2000-01-11</td>\n",
       "      <td>nan</td>\n",
       "      <td>2000-02-28</td>\n",
       "      <td>2000-03-21</td>\n",
       "      <td>48</td>\n",
       "      <td>22</td>\n",
       "    </tr>\n",
       "    <tr>\n",
       "      <th>3</th>\n",
       "      <td>Astrophys J</td>\n",
       "      <td>0004-637X</td>\n",
       "      <td>10727384</td>\n",
       "      <td>2000-01-28</td>\n",
       "      <td>nan</td>\n",
       "      <td>2000-02-22</td>\n",
       "      <td>2000-03-10</td>\n",
       "      <td>25</td>\n",
       "      <td>17</td>\n",
       "    </tr>\n",
       "    <tr>\n",
       "      <th>4</th>\n",
       "      <td>Am J Hum Genet</td>\n",
       "      <td>0002-9297</td>\n",
       "      <td>10968775</td>\n",
       "      <td>2000-05-19</td>\n",
       "      <td>nan</td>\n",
       "      <td>2000-08-03</td>\n",
       "      <td>2000-08-31</td>\n",
       "      <td>76</td>\n",
       "      <td>28</td>\n",
       "    </tr>\n",
       "  </tbody>\n",
       "</table>\n",
       "</div>"
      ],
      "text/plain": [
       "          journal journal_issn  pubmed_id    received revised   accepted  \\\n",
       "0     Astrophys J    0004-637X   10727377  2000-01-04     nan 2000-02-22   \n",
       "1     Astrophys J    0004-637X   10727379  2000-01-31     nan 2000-02-28   \n",
       "2     Astrophys J    0004-637X   10727380  2000-01-11     nan 2000-02-28   \n",
       "3     Astrophys J    0004-637X   10727384  2000-01-28     nan 2000-02-22   \n",
       "4  Am J Hum Genet    0002-9297   10968775  2000-05-19     nan 2000-08-03   \n",
       "\n",
       "  date_online  acceptance_delay  publication_delay  \n",
       "0  2000-03-16                49                 23  \n",
       "1  2000-03-16                28                 17  \n",
       "2  2000-03-21                48                 22  \n",
       "3  2000-03-10                25                 17  \n",
       "4  2000-08-31                76                 28  "
      ]
     },
     "execution_count": 10,
     "metadata": {},
     "output_type": "execute_result"
    }
   ],
   "source": [
    "# Read the cleaned article date information\n",
    "path = os.path.join('data', 'articles-filtered.tsv.gz')\n",
    "filtered_df = pandas.read_table(path, parse_dates=[3, 4, 5, 6])\n",
    "filtered_df.head()"
   ]
  },
  {
   "cell_type": "code",
   "execution_count": 38,
   "metadata": {
    "collapsed": false
   },
   "outputs": [
    {
     "data": {
      "image/png": "[encoded data removed]",
      "text/plain": [
       "<matplotlib.figure.Figure at 0x7f714a855e48>"
      ]
     },
     "metadata": {},
     "output_type": "display_data"
    }
   ],
   "source": [
    "# Articles per year\n",
    "ax = filtered_df.date_online.hist(bins=15)"
   ]
  },
  {
   "cell_type": "code",
   "execution_count": 39,
   "metadata": {
    "collapsed": false
   },
   "outputs": [
    {
     "data": {
      "text/html": [
       "<div>\n",
       "<table border=\"1\" class=\"dataframe\">\n",
       "  <thead>\n",
       "    <tr style=\"text-align: right;\">\n",
       "      <th></th>\n",
       "      <th>date_online</th>\n",
       "      <th>count</th>\n",
       "      <th>acceptance_delay</th>\n",
       "      <th>publication_delay</th>\n",
       "    </tr>\n",
       "  </thead>\n",
       "  <tbody>\n",
       "    <tr>\n",
       "      <th>0</th>\n",
       "      <td>2000</td>\n",
       "      <td>823</td>\n",
       "      <td>40</td>\n",
       "      <td>34</td>\n",
       "    </tr>\n",
       "    <tr>\n",
       "      <th>1</th>\n",
       "      <td>2001</td>\n",
       "      <td>3668</td>\n",
       "      <td>81</td>\n",
       "      <td>58</td>\n",
       "    </tr>\n",
       "    <tr>\n",
       "      <th>2</th>\n",
       "      <td>2002</td>\n",
       "      <td>10862</td>\n",
       "      <td>103</td>\n",
       "      <td>61</td>\n",
       "    </tr>\n",
       "    <tr>\n",
       "      <th>3</th>\n",
       "      <td>2003</td>\n",
       "      <td>16476</td>\n",
       "      <td>102</td>\n",
       "      <td>58</td>\n",
       "    </tr>\n",
       "    <tr>\n",
       "      <th>4</th>\n",
       "      <td>2004</td>\n",
       "      <td>20244</td>\n",
       "      <td>103</td>\n",
       "      <td>51</td>\n",
       "    </tr>\n",
       "    <tr>\n",
       "      <th>5</th>\n",
       "      <td>2005</td>\n",
       "      <td>72106</td>\n",
       "      <td>103</td>\n",
       "      <td>52</td>\n",
       "    </tr>\n",
       "    <tr>\n",
       "      <th>6</th>\n",
       "      <td>2006</td>\n",
       "      <td>135032</td>\n",
       "      <td>99</td>\n",
       "      <td>45</td>\n",
       "    </tr>\n",
       "    <tr>\n",
       "      <th>7</th>\n",
       "      <td>2007</td>\n",
       "      <td>149253</td>\n",
       "      <td>99</td>\n",
       "      <td>34</td>\n",
       "    </tr>\n",
       "    <tr>\n",
       "      <th>8</th>\n",
       "      <td>2008</td>\n",
       "      <td>174114</td>\n",
       "      <td>100</td>\n",
       "      <td>30</td>\n",
       "    </tr>\n",
       "    <tr>\n",
       "      <th>9</th>\n",
       "      <td>2009</td>\n",
       "      <td>195732</td>\n",
       "      <td>97</td>\n",
       "      <td>23</td>\n",
       "    </tr>\n",
       "    <tr>\n",
       "      <th>10</th>\n",
       "      <td>2010</td>\n",
       "      <td>221208</td>\n",
       "      <td>99</td>\n",
       "      <td>23</td>\n",
       "    </tr>\n",
       "    <tr>\n",
       "      <th>11</th>\n",
       "      <td>2011</td>\n",
       "      <td>275026</td>\n",
       "      <td>98</td>\n",
       "      <td>25</td>\n",
       "    </tr>\n",
       "    <tr>\n",
       "      <th>12</th>\n",
       "      <td>2012</td>\n",
       "      <td>311309</td>\n",
       "      <td>97</td>\n",
       "      <td>27</td>\n",
       "    </tr>\n",
       "    <tr>\n",
       "      <th>13</th>\n",
       "      <td>2013</td>\n",
       "      <td>323213</td>\n",
       "      <td>98</td>\n",
       "      <td>26</td>\n",
       "    </tr>\n",
       "    <tr>\n",
       "      <th>14</th>\n",
       "      <td>2014</td>\n",
       "      <td>326414</td>\n",
       "      <td>99</td>\n",
       "      <td>20</td>\n",
       "    </tr>\n",
       "    <tr>\n",
       "      <th>15</th>\n",
       "      <td>2015</td>\n",
       "      <td>144735</td>\n",
       "      <td>100</td>\n",
       "      <td>19</td>\n",
       "    </tr>\n",
       "  </tbody>\n",
       "</table>\n",
       "</div>"
      ],
      "text/plain": [
       "    date_online   count  acceptance_delay  publication_delay\n",
       "0          2000     823                40                 34\n",
       "1          2001    3668                81                 58\n",
       "2          2002   10862               103                 61\n",
       "3          2003   16476               102                 58\n",
       "4          2004   20244               103                 51\n",
       "5          2005   72106               103                 52\n",
       "6          2006  135032                99                 45\n",
       "7          2007  149253                99                 34\n",
       "8          2008  174114               100                 30\n",
       "9          2009  195732                97                 23\n",
       "10         2010  221208                99                 23\n",
       "11         2011  275026                98                 25\n",
       "12         2012  311309                97                 27\n",
       "13         2013  323213                98                 26\n",
       "14         2014  326414                99                 20\n",
       "15         2015  144735               100                 19"
      ]
     },
     "execution_count": 39,
     "metadata": {},
     "output_type": "execute_result"
    }
   ],
   "source": [
    "def summarize(df):\n",
    "    \"\"\"Summarize delays over a dataframe\"\"\"\n",
    "    row = pandas.Series()\n",
    "    row['count'] = len(df)\n",
    "    for column in 'acceptance_delay', 'publication_delay':\n",
    "        row[column] = df[column].median()\n",
    "    return row\n",
    "\n",
    "# Calculate year summaries\n",
    "year_df = filtered_df.groupby(by=filtered_df.date_online.map(lambda date: date.year)).apply(summarize).reset_index()\n",
    "year_df"
   ]
  },
  {
   "cell_type": "code",
   "execution_count": null,
   "metadata": {
    "collapsed": true
   },
   "outputs": [],
   "source": [
    "# Save year summaries\n",
    "path = os.path.join('data', 'years.tsv')\n",
    "year_df.to_csv(path, sep='\\t', index=False)"
   ]
  },
  {
   "cell_type": "code",
   "execution_count": 13,
   "metadata": {
    "collapsed": false
   },
   "outputs": [
    {
     "data": {
      "image/png": "[encoded data removed]",
      "text/plain": [
       "<matplotlib.figure.Figure at 0x7f714aa1aa90>"
      ]
     },
     "metadata": {},
     "output_type": "display_data"
    }
   ],
   "source": [
    "# Plot median publication delay versus online publication year\n",
    "ax = seaborn.regplot('date_online', 'publication_delay', year_df, truncate=True)\n",
    "matplotlib.pyplot.xlabel('Year published online');\n",
    "matplotlib.pyplot.ylabel('Median publication delay in days');\n",
    "matplotlib.pyplot.xlim(1999, 2016);"
   ]
  },
  {
   "cell_type": "code",
   "execution_count": 40,
   "metadata": {
    "collapsed": false
   },
   "outputs": [
    {
     "data": {
      "image/png": "[encoded data removed]",
      "text/plain": [
       "<matplotlib.figure.Figure at 0x7f712a1069b0>"
      ]
     },
     "metadata": {},
     "output_type": "display_data"
    }
   ],
   "source": [
    "# Plot median acceptance delay versus online publication year\n",
    "ax = seaborn.regplot('date_online', 'acceptance_delay', year_df, truncate=True)\n",
    "matplotlib.pyplot.xlabel('Year published online');\n",
    "matplotlib.pyplot.ylabel('Median acceptance delay in days');\n",
    "matplotlib.pyplot.xlim(1999, 2016);"
   ]
  }
 ],
 "metadata": {
  "kernelspec": {
   "display_name": "Python 3",
   "language": "python",
   "name": "python3"
  },
  "language_info": {
   "codemirror_mode": {
    "name": "ipython",
    "version": 3
   },
   "file_extension": ".py",
   "mimetype": "text/x-python",
   "name": "python",
   "nbconvert_exporter": "python",
   "pygments_lexer": "ipython3",
   "version": "3.5.0"
  }
 },
 "nbformat": 4,
 "nbformat_minor": 0
}
