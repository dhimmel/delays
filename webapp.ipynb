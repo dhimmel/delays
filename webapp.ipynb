{
 "cells": [
  {
   "cell_type": "code",
   "execution_count": 1,
   "metadata": {
    "collapsed": true
   },
   "outputs": [],
   "source": [
    "import os\n",
    "import re\n",
    "import json\n",
    "\n",
    "import pandas"
   ]
  },
  {
   "cell_type": "markdown",
   "metadata": {},
   "source": [
    "## Create select2 journal search data"
   ]
  },
  {
   "cell_type": "code",
   "execution_count": 2,
   "metadata": {
    "collapsed": false
   },
   "outputs": [
    {
     "data": {
      "text/html": [
       "<div>\n",
       "<table border=\"1\" class=\"dataframe\">\n",
       "  <thead>\n",
       "    <tr style=\"text-align: right;\">\n",
       "      <th></th>\n",
       "      <th>JournalTitle</th>\n",
       "      <th>JrId</th>\n",
       "      <th>NlmId</th>\n",
       "      <th>IsoAbbr</th>\n",
       "      <th>MedAbbr</th>\n",
       "      <th>ISSN (Print)</th>\n",
       "      <th>ISSN (Online)</th>\n",
       "    </tr>\n",
       "  </thead>\n",
       "  <tbody>\n",
       "    <tr>\n",
       "      <th>0</th>\n",
       "      <td>Acta radiologica: therapy, physics, biology</td>\n",
       "      <td>198</td>\n",
       "      <td>0000201</td>\n",
       "      <td>Acta Radiol Ther Phys Biol</td>\n",
       "      <td>Acta Radiol Ther Phys Biol</td>\n",
       "      <td>0567-8064</td>\n",
       "      <td>NaN</td>\n",
       "    </tr>\n",
       "    <tr>\n",
       "      <th>1</th>\n",
       "      <td>Acta paediatrica Scandinavica</td>\n",
       "      <td>159</td>\n",
       "      <td>0000211</td>\n",
       "      <td>Acta Paediatr Scand</td>\n",
       "      <td>Acta Paediatr Scand</td>\n",
       "      <td>0001-656X</td>\n",
       "      <td>NaN</td>\n",
       "    </tr>\n",
       "  </tbody>\n",
       "</table>\n",
       "</div>"
      ],
      "text/plain": [
       "                                  JournalTitle  JrId    NlmId  \\\n",
       "0  Acta radiologica: therapy, physics, biology   198  0000201   \n",
       "1                Acta paediatrica Scandinavica   159  0000211   \n",
       "\n",
       "                      IsoAbbr                     MedAbbr ISSN (Print)  \\\n",
       "0  Acta Radiol Ther Phys Biol  Acta Radiol Ther Phys Biol    0567-8064   \n",
       "1         Acta Paediatr Scand         Acta Paediatr Scand    0001-656X   \n",
       "\n",
       "  ISSN (Online)  \n",
       "0           NaN  \n",
       "1           NaN  "
      ]
     },
     "execution_count": 2,
     "metadata": {},
     "output_type": "execute_result"
    }
   ],
   "source": [
    "journal_df = pandas.read_table('data/pubmed-journals.tsv')\n",
    "journal_df.head(2)"
   ]
  },
  {
   "cell_type": "code",
   "execution_count": 3,
   "metadata": {
    "collapsed": false
   },
   "outputs": [],
   "source": [
    "for delay_type in 'accept', 'publish':\n",
    "    directory = os.path.join('viz', 'journal', delay_type)\n",
    "    nlm_ids = set(filename.split('.')[0] for filename in os.listdir(directory) if filename.endswith('.png'))\n",
    "    subset_df = journal_df[journal_df.NlmId.isin(nlm_ids)]\n",
    "    \n",
    "    entries = list()\n",
    "    for i, row in subset_df.iterrows():\n",
    "        entry = {\n",
    "            'id': row.NlmId,\n",
    "            'text': row.JournalTitle,\n",
    "        }\n",
    "        entries.append(entry)\n",
    "\n",
    "    entries.sort(key = lambda entry: entry['text'])\n",
    "\n",
    "    path = os.path.join('webapp', 'select2-{}.json'.format(delay_type))\n",
    "    with open(path, 'wt') as write_file:\n",
    "        json.dump(entries, write_file, indent=2)"
   ]
  }
 ],
 "metadata": {
  "kernelspec": {
   "display_name": "Python 3",
   "language": "python",
   "name": "python3"
  },
  "language_info": {
   "codemirror_mode": {
    "name": "ipython",
    "version": 3
   },
   "file_extension": ".py",
   "mimetype": "text/x-python",
   "name": "python",
   "nbconvert_exporter": "python",
   "pygments_lexer": "ipython3",
   "version": "3.5.1"
  }
 },
 "nbformat": 4,
 "nbformat_minor": 0
}
