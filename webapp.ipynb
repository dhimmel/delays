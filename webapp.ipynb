{
 "cells": [
  {
   "cell_type": "code",
   "execution_count": null,
   "metadata": {
    "collapsed": true
   },
   "outputs": [],
   "source": [
    "import os\n",
    "import re\n",
    "import json\n",
    "\n",
    "import pandas"
   ]
  },
  {
   "cell_type": "markdown",
   "metadata": {},
   "source": [
    "## Create select2 journal search data"
   ]
  },
  {
   "cell_type": "code",
   "execution_count": null,
   "metadata": {
    "collapsed": false
   },
   "outputs": [],
   "source": [
    "journal_df = pandas.read_table('data/pubmed-journals.tsv')\n",
    "journal_df.head(2)"
   ]
  },
  {
   "cell_type": "code",
   "execution_count": null,
   "metadata": {
    "collapsed": false
   },
   "outputs": [],
   "source": [
    "nlm_ids = set(filename.split('.')[0] for filename in os.listdir('viz/journal/') if filename.endswith('.png'))\n",
    "subset_df = journal_df[journal_df.NlmId.isin(nlm_ids)]"
   ]
  },
  {
   "cell_type": "code",
   "execution_count": null,
   "metadata": {
    "collapsed": false
   },
   "outputs": [],
   "source": [
    "entries = list()\n",
    "for i, row in subset_df.iterrows():\n",
    "    entry = {\n",
    "        'id': row.NlmId,\n",
    "        'text': row.JournalTitle,\n",
    "    }\n",
    "    entries.append(entry)\n",
    "\n",
    "entries.sort(key = lambda entry: entry['id'])\n",
    "\n",
    "path = 'webapp/select2-acceptance.json'\n",
    "with open(path, 'wt') as write_file:\n",
    "    json.dump(entries, write_file, indent=2)"
   ]
  }
 ],
 "metadata": {
  "kernelspec": {
   "display_name": "Python 3",
   "language": "python",
   "name": "python3"
  },
  "language_info": {
   "codemirror_mode": {
    "name": "ipython",
    "version": 3
   },
   "file_extension": ".py",
   "mimetype": "text/x-python",
   "name": "python",
   "nbconvert_exporter": "python",
   "pygments_lexer": "ipython3",
   "version": "3.5.1"
  }
 },
 "nbformat": 4,
 "nbformat_minor": 0
}
