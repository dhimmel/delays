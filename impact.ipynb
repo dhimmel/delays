{
 "cells": [
  {
   "cell_type": "code",
   "execution_count": 1,
   "metadata": {
    "collapsed": false
   },
   "outputs": [],
   "source": [
    "library(dplyr, warn=F)\n",
    "library(ggplot2)"
   ]
  },
  {
   "cell_type": "code",
   "execution_count": 2,
   "metadata": {
    "collapsed": false
   },
   "outputs": [
    {
     "data": {
      "text/html": [
       "<table>\n",
       "<thead><tr><th></th><th scope=col>journal_nlm_id</th><th scope=col>sjr</th></tr></thead>\n",
       "<tbody>\n",
       "\t<tr><th scope=row>1</th><td>0000266</td><td>0.589</td></tr>\n",
       "\t<tr><th scope=row>2</th><td>0001027</td><td>0.753</td></tr>\n",
       "</tbody>\n",
       "</table>\n"
      ],
      "text/latex": [
       "\\begin{tabular}{r|ll}\n",
       "  & journal_nlm_id & sjr\\\\\n",
       "\\hline\n",
       "\t1 & 0000266 & 0.589\\\\\n",
       "\t2 & 0001027 & 0.753\\\\\n",
       "\\end{tabular}\n"
      ],
      "text/plain": [
       "Source: local data frame [2 x 2]\n",
       "\n",
       "  journal_nlm_id   sjr\n",
       "           (chr) (dbl)\n",
       "1        0000266 0.589\n",
       "2        0001027 0.753"
      ]
     },
     "execution_count": 2,
     "metadata": {},
     "output_type": "execute_result"
    }
   ],
   "source": [
    "# Read 2014 SJR values\n",
    "metric_df = 'https://github.com/dhimmel/journalmetrics/raw/fb6797b680ff6d119ef21de8791c0573d44cf6c0/data/pubmed-metrics.tsv.gz' %>%\n",
    "  readr::read_tsv() %>%\n",
    "  dplyr::filter(year == 2014, metric == 'SJR') %>%\n",
    "  dplyr::transmute(journal_nlm_id, sjr = value)\n",
    "\n",
    "head(metric_df, 2)"
   ]
  },
  {
   "cell_type": "code",
   "execution_count": 3,
   "metadata": {
    "collapsed": false
   },
   "outputs": [
    {
     "name": "stderr",
     "output_type": "stream",
     "text": [
      "Joining by: \"journal_nlm_id\"\n"
     ]
    },
    {
     "data": {
      "text/html": [
       "<table>\n",
       "<thead><tr><th></th><th scope=col>journal_nlm_id</th><th scope=col>articles</th><th scope=col>slope</th><th scope=col>slope_as_percent</th><th scope=col>p_value</th><th scope=col>delay_type</th><th scope=col>sjr</th></tr></thead>\n",
       "<tbody>\n",
       "\t<tr><th scope=row>1</th><td>0111356</td><td>163</td><td>-473.2081</td><td>-368.4048</td><td>2.48e-28</td><td>publish</td><td>0.389</td></tr>\n",
       "\t<tr><th scope=row>2</th><td>101128940</td><td>152</td><td>-218.7405</td><td>-144.2829</td><td>4.92e-10</td><td>publish</td><td>0.162</td></tr>\n",
       "</tbody>\n",
       "</table>\n"
      ],
      "text/latex": [
       "\\begin{tabular}{r|lllllll}\n",
       "  & journal_nlm_id & articles & slope & slope_as_percent & p_value & delay_type & sjr\\\\\n",
       "\\hline\n",
       "\t1 & 0111356 & 163 & -473.2081 & -368.4048 & 2.48e-28 & publish & 0.389\\\\\n",
       "\t2 & 101128940 & 152 & -218.7405 & -144.2829 & 4.92e-10 & publish & 0.162\\\\\n",
       "\\end{tabular}\n"
      ],
      "text/plain": [
       "Source: local data frame [2 x 7]\n",
       "\n",
       "  journal_nlm_id articles     slope slope_as_percent  p_value delay_type   sjr\n",
       "           (chr)    (int)     (dbl)            (dbl)    (dbl)      (chr) (dbl)\n",
       "1        0111356      163 -473.2081        -368.4048 2.48e-28    publish 0.389\n",
       "2      101128940      152 -218.7405        -144.2829 4.92e-10    publish 0.162"
      ]
     },
     "execution_count": 3,
     "metadata": {},
     "output_type": "execute_result"
    }
   ],
   "source": [
    "# Read journal delay slopes\n",
    "slope_df = 'data/slopes.tsv' %>%\n",
    "  readr::read_tsv() %>%\n",
    "  dplyr::inner_join(metric_df)\n",
    "\n",
    "head(slope_df, 2)"
   ]
  },
  {
   "cell_type": "code",
   "execution_count": 10,
   "metadata": {
    "collapsed": false
   },
   "outputs": [
    {
     "name": "stderr",
     "output_type": "stream",
     "text": [
      "Joining by: c(\"journal_nlm_id\", \"delay_type\")\n",
      "Joining by: \"journal_nlm_id\"\n"
     ]
    }
   ],
   "source": [
    "# Read median journal delays\n",
    "delay_df = 'data/journal-summaries.tsv' %>%\n",
    "  readr::read_tsv() %>%\n",
    "  dplyr::select(journal_nlm_id, median_acceptance_delay, median_publication_delay) %>%\n",
    "  tidyr::gather(key=delay_type, value=delay, median_acceptance_delay, median_publication_delay) %>%\n",
    "  dplyr::mutate(delay_type = c(median_acceptance_delay='accept', median_publication_delay='publish')[delay_type]) %>%\n",
    "  dplyr::inner_join(slope_df %>% dplyr::select(journal_nlm_id, delay_type)) %>%\n",
    "  dplyr::inner_join(metric_df)"
   ]
  },
  {
   "cell_type": "code",
   "execution_count": 11,
   "metadata": {
    "collapsed": false
   },
   "outputs": [],
   "source": [
    "mean_CI <- function(x) {t.test(x)$conf.int[1:2]}\n",
    "\n",
    "n_quantiles = 20\n",
    "\n",
    "format_gg <- function(gg) {\n",
    "  gg = gg + \n",
    "  ggplot2::facet_grid(. ~ delay_type, scales='free_x') +\n",
    "  ggplot2::stat_summary(fun.data = 'mean_cl_normal', geom = 'errorbar', width = 0, color = '#80a5f9') +\n",
    "  ggplot2::theme_bw() +\n",
    "  ggplot2::theme(plot.margin=grid::unit(c(2, 2, 2, 2), 'points')) +\n",
    "  ggplot2::theme(axis.ticks.x = element_blank(), axis.text.x = element_blank()) +\n",
    "  ggplot2::theme(strip.background = element_rect(fill = '#fef2e2')) +\n",
    "  ggplot2::scale_x_discrete(name=NULL)\n",
    "  return(gg)\n",
    "}\n",
    "\n",
    "delay_converter = c(accept='Acceptance', publish='Publication')\n",
    "\n",
    "gg_delay = delay_df %>%\n",
    "  dplyr::mutate(delay_type = delay_converter[delay_type]) %>%\n",
    "  dplyr::mutate(sjr_quantile = dplyr::ntile(sjr, n = n_quantiles)) %>%\n",
    "  ggplot2::ggplot(aes(x = sjr_quantile, y = delay)) %>%\n",
    "  format_gg() +\n",
    "  ggplot2::ylab('Median delay')\n",
    "\n",
    "gg_slope = slope_df %>%\n",
    "  dplyr::mutate(delay_type = delay_converter[delay_type]) %>%\n",
    "  dplyr::mutate(sjr_quantile = dplyr::ntile(sjr, n = n_quantiles)) %>%\n",
    "  ggplot2::ggplot(aes(x = sjr_quantile, y = slope)) +\n",
    "  ggplot2::geom_hline(yintercept = 0, linetype = 'dashed')\n",
    "gg_slope = format_gg(gg_slope) +\n",
    "  ggplot2::ylab('Δ days per year')\n",
    "\n",
    "gg = gridExtra::arrangeGrob(gg_delay, gg_slope, nrow=1, bottom = 'SJR quantile (journal prestige in 2014, low to high)')\n",
    "path = file.path('viz', 'impact.png')\n",
    "ggplot2::ggsave(filename = path, plot = gg, width = 5.5, height = 2.1)"
   ]
  }
 ],
 "metadata": {
  "kernelspec": {
   "display_name": "R",
   "language": "R",
   "name": "ir"
  },
  "language_info": {
   "codemirror_mode": "r",
   "file_extension": ".r",
   "mimetype": "text/x-r-source",
   "name": "R",
   "pygments_lexer": "r",
   "version": "3.2.2"
  }
 },
 "nbformat": 4,
 "nbformat_minor": 0
}
